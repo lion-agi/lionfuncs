{
 "cells": [
  {
   "cell_type": "code",
   "execution_count": null,
   "metadata": {},
   "outputs": [],
   "source": [
    "from lionfuncs import extract_docstring"
   ]
  },
  {
   "cell_type": "code",
   "execution_count": 1,
   "metadata": {},
   "outputs": [
    {
     "data": {
      "text/plain": [
       "('sample docstring', {'arg1': 'sample parameter', 'arg2': 'sample parameter'})"
      ]
     },
     "execution_count": 1,
     "metadata": {},
     "output_type": "execute_result"
    }
   ],
   "source": [
    "# google style docstring\n",
    "def sample_func(arg1: str, arg2: str):\n",
    "    \"\"\"\n",
    "    sample docstring\n",
    "    \n",
    "    Args:\n",
    "        arg1 (str): sample parameter\n",
    "        arg2 (str): sample parameter\n",
    "    \"\"\"\n",
    "\n",
    "extract_docstring(sample_func)\n"
   ]
  },
  {
   "cell_type": "code",
   "execution_count": 2,
   "metadata": {},
   "outputs": [
    {
     "data": {
      "text/plain": [
       "('sample docstring', {'arg1': 'sample parameter', 'arg2': 'sample parameter'})"
      ]
     },
     "execution_count": 2,
     "metadata": {},
     "output_type": "execute_result"
    }
   ],
   "source": [
    "#reST(reStructuredText) style docstring\n",
    "def sample_func2(arg1: str, arg2: str):\n",
    "    \"\"\"sample docstring\n",
    "    \n",
    "    :param arg1: sample parameter\n",
    "    :type arg1: str\n",
    "    :param arg2: sample parameter\n",
    "    :type arg2: str\n",
    "    \"\"\"\n",
    "    \n",
    "extract_docstring(sample_func2, style=\"rest\")\n",
    "    "
   ]
  }
 ],
 "metadata": {
  "kernelspec": {
   "display_name": "Python 3",
   "language": "python",
   "name": "python3"
  },
  "language_info": {
   "codemirror_mode": {
    "name": "ipython",
    "version": 3
   },
   "file_extension": ".py",
   "mimetype": "text/x-python",
   "name": "python",
   "nbconvert_exporter": "python",
   "pygments_lexer": "ipython3",
   "version": "3.12.4"
  }
 },
 "nbformat": 4,
 "nbformat_minor": 2
}
