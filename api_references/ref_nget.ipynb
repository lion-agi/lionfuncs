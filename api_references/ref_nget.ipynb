{
 "cells": [
  {
   "cell_type": "markdown",
   "metadata": {},
   "source": [
    "# nget Function API Reference\n",
    "\n",
    "The `nget` function retrieves a value from a nested data structure (dictionaries and lists) based on a sequence of indices or keys. It traverses the nested structure according to the provided indices and returns the value at the specified location.\n",
    "\n",
    "---\n",
    "\n",
    "## Function Signature\n",
    "\n",
    "```python\n",
    "def nget(nested_structure, indices, default=None):\n",
    "    ...\n",
    "```\n",
    "\n",
    "---\n",
    "\n",
    "## Parameters\n",
    "\n",
    "- **nested_structure** (`dict`, `list`, or other nested combinations):  \n",
    "  The nested data structure from which to retrieve the value. It can be a dictionary, a list, or a nested combination of both.\n",
    "\n",
    "- **indices** (`list`):  \n",
    "  A list of keys or indices that specify the path to the desired value within the nested structure. Keys are used for dictionaries, and indices (integers) are used for lists.\n",
    "\n",
    "- **default** (any, optional):  \n",
    "  A default value to return if the specified path does not exist. If not provided and the path is invalid, a `LookupError` is raised.\n",
    "\n",
    "---\n",
    "\n",
    "## Returns\n",
    "\n",
    "- **value** (any):  \n",
    "  The value located at the specified path within the nested structure.\n",
    "\n",
    "---\n",
    "\n",
    "## Raises\n",
    "\n",
    "- **LookupError**:  \n",
    "  If the specified path does not exist in the nested structure and no default value is provided.\n",
    "\n",
    "- **TypeError**:  \n",
    "  If an index is invalid for the type it is indexing into (e.g., using a string key for a list).\n",
    "\n",
    "---"
   ]
  },
  {
   "cell_type": "markdown",
   "metadata": {},
   "source": [
    "\n",
    "## Examples"
   ]
  },
  {
   "cell_type": "markdown",
   "metadata": {},
   "source": [
    "\n",
    "### Example 1: Accessing a Nested Dictionary"
   ]
  },
  {
   "cell_type": "code",
   "execution_count": 1,
   "metadata": {},
   "outputs": [
    {
     "name": "stdout",
     "output_type": "stream",
     "text": [
      "3\n"
     ]
    }
   ],
   "source": [
    "from lionfuncs.data_handlers.nget import nget\n",
    "\n",
    "data = {\"a\": {\"b\": {\"c\": 3}}}\n",
    "indices = [\"a\", \"b\", \"c\"]\n",
    "\n",
    "value = nget(data, indices)\n",
    "print(value)"
   ]
  },
  {
   "cell_type": "markdown",
   "metadata": {},
   "source": [
    "**Explanation:**  \n",
    "The function retrieves the value `3` located at `data[\"a\"][\"b\"][\"c\"]`.\n",
    "\n",
    "---"
   ]
  },
  {
   "cell_type": "markdown",
   "metadata": {},
   "source": [
    "### Example 2: Accessing a Nested List"
   ]
  },
  {
   "cell_type": "code",
   "execution_count": 2,
   "metadata": {},
   "outputs": [
    {
     "name": "stdout",
     "output_type": "stream",
     "text": [
      "3\n"
     ]
    }
   ],
   "source": [
    "data = [1, [2, [3, 4]]]\n",
    "indices = [1, 1, 0]\n",
    "\n",
    "value = nget(data, indices)\n",
    "print(value)"
   ]
  },
  {
   "cell_type": "markdown",
   "metadata": {},
   "source": [
    "**Explanation:**  \n",
    "The function retrieves the value `3` located at `data[1][1][0]`.\n",
    "\n",
    "---"
   ]
  },
  {
   "cell_type": "markdown",
   "metadata": {},
   "source": [
    "### Example 3: Mixing Dictionaries and Lists"
   ]
  },
  {
   "cell_type": "code",
   "execution_count": 3,
   "metadata": {},
   "outputs": [
    {
     "name": "stdout",
     "output_type": "stream",
     "text": [
      "2\n"
     ]
    }
   ],
   "source": [
    "data = {\"a\": [1, {\"b\": 2}]}\n",
    "indices = [\"a\", 1, \"b\"]\n",
    "\n",
    "value = nget(data, indices)\n",
    "print(value)"
   ]
  },
  {
   "cell_type": "markdown",
   "metadata": {},
   "source": [
    "**Explanation:**  \n",
    "The function navigates through a list and a dictionary to retrieve the value `2`.\n",
    "\n",
    "---"
   ]
  },
  {
   "cell_type": "markdown",
   "metadata": {},
   "source": [
    "### Example 4: Providing a Default Value"
   ]
  },
  {
   "cell_type": "code",
   "execution_count": 4,
   "metadata": {},
   "outputs": [
    {
     "name": "stdout",
     "output_type": "stream",
     "text": [
      "10\n"
     ]
    }
   ],
   "source": [
    "data = {\"a\": {\"b\": 2}}\n",
    "indices = [\"a\", \"c\"]\n",
    "default_value = 10\n",
    "\n",
    "value = nget(data, indices, default=default_value)\n",
    "print(value)"
   ]
  },
  {
   "cell_type": "markdown",
   "metadata": {},
   "source": [
    "**Explanation:**  \n",
    "Since the path `[\"a\", \"c\"]` does not exist, the function returns the default value `10`.\n",
    "\n",
    "---"
   ]
  },
  {
   "cell_type": "markdown",
   "metadata": {},
   "source": [
    "### Example 5: Handling Missing Paths Without a Default"
   ]
  },
  {
   "cell_type": "code",
   "execution_count": 5,
   "metadata": {},
   "outputs": [
    {
     "name": "stdout",
     "output_type": "stream",
     "text": [
      "Target not found and no default value provided.\n"
     ]
    }
   ],
   "source": [
    "data = {\"a\": {\"b\": 2}}\n",
    "indices = [\"a\", \"c\"]\n",
    "try:\n",
    "    value = nget(data, indices)\n",
    "except LookupError as e:\n",
    "    print(e)"
   ]
  },
  {
   "cell_type": "markdown",
   "metadata": {},
   "source": [
    "**Raises:**\n",
    "\n",
    "```python\n",
    "LookupError: Target not found and no default value provided.\n",
    "```\n",
    "\n",
    "**Explanation:**  \n",
    "The path `[\"a\", \"c\"]` does not exist, and no default value is provided, so a `LookupError` is raised.\n",
    "\n",
    "---"
   ]
  },
  {
   "cell_type": "markdown",
   "metadata": {},
   "source": [
    "### Example 6: Accessing Deeply Nested Structures"
   ]
  },
  {
   "cell_type": "code",
   "execution_count": 6,
   "metadata": {},
   "outputs": [
    {
     "name": "stdout",
     "output_type": "stream",
     "text": [
      "5\n"
     ]
    }
   ],
   "source": [
    "data = {\"a\": {\"b\": {\"c\": {\"d\": {\"e\": 5}}}}}\n",
    "indices = [\"a\", \"b\", \"c\", \"d\", \"e\"]\n",
    "\n",
    "value = nget(data, indices)\n",
    "print(value)"
   ]
  },
  {
   "cell_type": "markdown",
   "metadata": {},
   "source": [
    "**Explanation:**  \n",
    "The function successfully navigates through multiple nested dictionaries to retrieve the value `5`.\n",
    "\n",
    "---"
   ]
  },
  {
   "cell_type": "markdown",
   "metadata": {},
   "source": [
    "### Example 7: Accessing Elements in a Nested List of Dictionaries"
   ]
  },
  {
   "cell_type": "code",
   "execution_count": 7,
   "metadata": {},
   "outputs": [
    {
     "name": "stdout",
     "output_type": "stream",
     "text": [
      "2\n"
     ]
    }
   ],
   "source": [
    "data = {\"a\": {\"b\": [{\"c\": 1}, {\"c\": 2}]}}\n",
    "indices = [\"a\", \"b\", 1, \"c\"]\n",
    "\n",
    "value = nget(data, indices)\n",
    "print(value)"
   ]
  },
  {
   "cell_type": "markdown",
   "metadata": {},
   "source": [
    "**Explanation:**  \n",
    "The function accesses the second element of the list in `data[\"a\"][\"b\"]` and retrieves the value associated with the key `\"c\"`.\n",
    "\n",
    "---"
   ]
  },
  {
   "cell_type": "markdown",
   "metadata": {},
   "source": [
    "### Example 8: Using Integer Keys in Dictionaries"
   ]
  },
  {
   "cell_type": "code",
   "execution_count": 8,
   "metadata": {},
   "outputs": [
    {
     "name": "stdout",
     "output_type": "stream",
     "text": [
      "value\n"
     ]
    }
   ],
   "source": [
    "data = {\"0\": \"value\"}\n",
    "indices = [\"0\"]\n",
    "\n",
    "value = nget(data, indices)\n",
    "print(value)"
   ]
  },
  {
   "cell_type": "markdown",
   "metadata": {},
   "source": [
    "**Explanation:**  \n",
    "Even though the key is a string that looks like an integer, it is used as a dictionary key.\n",
    "\n",
    "---"
   ]
  },
  {
   "cell_type": "markdown",
   "metadata": {},
   "source": [
    "### Example 9: Accessing Elements with Mixed Types"
   ]
  },
  {
   "cell_type": "code",
   "execution_count": 9,
   "metadata": {},
   "outputs": [
    {
     "name": "stdout",
     "output_type": "stream",
     "text": [
      "5\n"
     ]
    }
   ],
   "source": [
    "data = {\"a\": [1, 2, {\"b\": [3, 4, {\"c\": 5}]}]}\n",
    "indices = [\"a\", 2, \"b\", 2, \"c\"]\n",
    "\n",
    "value = nget(data, indices)\n",
    "print(value)"
   ]
  },
  {
   "cell_type": "markdown",
   "metadata": {},
   "source": [
    "**Explanation:**  \n",
    "The function navigates through lists and dictionaries to retrieve the value `5`.\n",
    "\n",
    "---"
   ]
  },
  {
   "cell_type": "markdown",
   "metadata": {},
   "source": [
    "### Example 10: Accessing Elements in a Large Nested Structure"
   ]
  },
  {
   "cell_type": "code",
   "execution_count": 10,
   "metadata": {},
   "outputs": [
    {
     "name": "stdout",
     "output_type": "stream",
     "text": [
      "deep\n"
     ]
    }
   ],
   "source": [
    "# Creating a deeply nested structure\n",
    "large_data = {\"level1\": {}}\n",
    "current = large_data[\"level1\"]\n",
    "for i in range(2, 101):\n",
    "    current[f\"level{i}\"] = {}\n",
    "    current = current[f\"level{i}\"]\n",
    "current[\"value\"] = \"deep\"\n",
    "\n",
    "indices = [f\"level{i}\" for i in range(1, 101)] + [\"value\"]\n",
    "\n",
    "value = nget(large_data, indices)\n",
    "print(value)"
   ]
  },
  {
   "cell_type": "markdown",
   "metadata": {},
   "source": [
    "**Explanation:**  \n",
    "The function successfully navigates through a deeply nested structure with 100 levels.\n",
    "\n",
    "---"
   ]
  },
  {
   "cell_type": "markdown",
   "metadata": {},
   "source": [
    "## Notes\n",
    "\n",
    "- The `indices` list should contain keys (for dictionaries) or indices (for lists) in the exact order they appear in the nested structure.\n",
    "- If an index does not match the type it is indexing into (e.g., using an integer index for a dictionary), a `LookupError` is raised.\n",
    "- The function does not modify the original data structure.\n",
    "\n",
    "---"
   ]
  },
  {
   "cell_type": "markdown",
   "metadata": {},
   "source": [
    "## Handling Exceptions"
   ]
  },
  {
   "cell_type": "markdown",
   "metadata": {},
   "source": [
    "### LookupError: Path Does Not Exist Without Default"
   ]
  },
  {
   "cell_type": "code",
   "execution_count": 11,
   "metadata": {},
   "outputs": [
    {
     "name": "stdout",
     "output_type": "stream",
     "text": [
      "Target not found and no default value provided.\n"
     ]
    }
   ],
   "source": [
    "data = {\"a\": {\"b\": 2}}\n",
    "indices = [\"a\", \"c\"]\n",
    "\n",
    "try:\n",
    "    value = nget(data, indices)\n",
    "except LookupError as e:\n",
    "    print(e)"
   ]
  },
  {
   "cell_type": "markdown",
   "metadata": {},
   "source": [
    "**Raises:**\n",
    "\n",
    "```python\n",
    "LookupError: Target not found and no default value provided.\n",
    "```\n",
    "\n",
    "**Explanation:**  \n",
    "The specified path does not exist, and no default value is provided, resulting in a `LookupError`.\n",
    "\n",
    "---"
   ]
  },
  {
   "cell_type": "markdown",
   "metadata": {},
   "source": [
    "### TypeError: Invalid Index Type"
   ]
  },
  {
   "cell_type": "code",
   "execution_count": 12,
   "metadata": {},
   "outputs": [
    {
     "name": "stdout",
     "output_type": "stream",
     "text": [
      "Target not found and no default value provided.\n"
     ]
    }
   ],
   "source": [
    "data = [1, 2, 3]\n",
    "indices = [\"a\"]\n",
    "\n",
    "try:\n",
    "    value = nget(data, indices)\n",
    "except LookupError as e:\n",
    "    print(e)"
   ]
  },
  {
   "cell_type": "markdown",
   "metadata": {},
   "source": [
    "**Raises:**\n",
    "\n",
    "```python\n",
    "LookupError: Expected integer index for list, got str.\n",
    "```\n",
    "\n",
    "**Explanation:**  \n",
    "An invalid index type is used for a list (string instead of integer), causing a `LookupError`.\n",
    "\n",
    "---"
   ]
  },
  {
   "cell_type": "markdown",
   "metadata": {},
   "source": [
    "### Example with Non-Subscriptable Data"
   ]
  },
  {
   "cell_type": "code",
   "execution_count": 13,
   "metadata": {},
   "outputs": [
    {
     "name": "stdout",
     "output_type": "stream",
     "text": [
      "Target not found and no default value provided.\n"
     ]
    }
   ],
   "source": [
    "data = 42\n",
    "indices = [0]\n",
    "\n",
    "try:\n",
    "    value = nget(data, indices)\n",
    "except LookupError as e:\n",
    "    print(e)"
   ]
  },
  {
   "cell_type": "markdown",
   "metadata": {},
   "source": [
    "**Raises:**\n",
    "\n",
    "```python\n",
    "LookupError: Cannot index into non-subscriptable type 'int'.\n",
    "```\n",
    "\n",
    "**Explanation:**  \n",
    "The function cannot index into a non-subscriptable type like an integer, resulting in a `LookupError`.\n",
    "\n",
    "---"
   ]
  },
  {
   "cell_type": "markdown",
   "metadata": {},
   "source": [
    "## Implementation Details\n",
    "\n",
    "- The `nget` function is part of the `lionfuncs.data_handlers` module.\n",
    "- The function is designed to be robust and can handle complex nested structures.\n",
    "- It uses recursion or iterative methods to traverse the nested structure based on the provided indices.\n",
    "\n",
    "---\n",
    "\n",
    "## Conclusion\n",
    "\n",
    "The `nget` function is a useful utility for retrieving values from complex nested data structures using a sequence of indices or keys. By handling both dictionaries and lists, it provides flexibility in navigating various data formats. Providing a default value allows for graceful handling of missing paths without raising exceptions.\n",
    "\n",
    "---"
   ]
  }
 ],
 "metadata": {
  "kernelspec": {
   "display_name": "Python 3",
   "language": "python",
   "name": "python3"
  },
  "language_info": {
   "codemirror_mode": {
    "name": "ipython",
    "version": 3
   },
   "file_extension": ".py",
   "mimetype": "text/x-python",
   "name": "python",
   "nbconvert_exporter": "python",
   "pygments_lexer": "ipython3",
   "version": "3.12.4"
  }
 },
 "nbformat": 4,
 "nbformat_minor": 2
}
