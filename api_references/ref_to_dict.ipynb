{
 "cells": [
  {
   "cell_type": "markdown",
   "metadata": {},
   "source": [
    "# to_dict Function API Reference\n",
    "\n",
    "The `to_dict` function converts various input types into a dictionary. It handles multiple input types, including `None`, mappings, strings (JSON or XML), sets, sequences, and custom objects.\n",
    "\n",
    "---\n",
    "\n",
    "## Function Signature\n",
    "\n",
    "```python\n",
    "def to_dict(\n",
    "    input_: Any,\n",
    "    /,\n",
    "    *,\n",
    "    use_model_dump: bool = True,\n",
    "    fuzzy_parse: bool = False,\n",
    "    suppress: bool = False,\n",
    "    str_type: Literal[\"json\", \"xml\"] | None = \"json\",\n",
    "    parser: Callable[[str], dict[str, Any]] | None = None,\n",
    "    remove_root: bool = True,\n",
    "    **kwargs: Any,\n",
    ") -> dict[str, Any]:\n",
    "    ...\n",
    "```\n",
    "\n",
    "---\n",
    "\n",
    "## Parameters\n",
    "\n",
    "- **input_** (`Any`):  \n",
    "  The input to convert into a dictionary. It can be of various types like `dict`, `list`, `str`, custom objects, etc.\n",
    "\n",
    "- **use_model_dump** (`bool`, optional):  \n",
    "  If `True` (default), and the input object has a `model_dump()` method (e.g., a Pydantic model), this method is used to convert the object to a dictionary.\n",
    "\n",
    "- **fuzzy_parse** (`bool`, optional):  \n",
    "  If `True`, enables fuzzy parsing for string inputs, allowing parsing of JSON-like strings that may not be strictly valid JSON. Default is `False`.\n",
    "\n",
    "- **suppress** (`bool`, optional):  \n",
    "  If `True`, suppresses exceptions during parsing of string inputs and returns an empty dictionary `{}` instead. Default is `False`.\n",
    "\n",
    "- **str_type** (`str`, optional):  \n",
    "  Specifies the format of the string if `input_` is a string. Accepted values are `\"json\"` or `\"xml\"`. Default is `\"json\"`.\n",
    "\n",
    "- **parser** (`Callable[[str], dict[str, Any]]`, optional):  \n",
    "  A custom parser function to process the string `input_`. If provided, this parser is used instead of the default JSON or XML parsers.\n",
    "\n",
    "- **remove_root** (`bool`, optional):  \n",
    "  Applicable when `str_type` is `\"xml\"`. If `True` (default), removes the root element from the parsed XML dictionary.\n",
    "\n",
    "- **kwargs** (`Any`):  \n",
    "  Additional keyword arguments passed to parsing functions.\n",
    "\n",
    "---\n",
    "\n",
    "## Returns\n",
    "\n",
    "- **dict**:  \n",
    "  A dictionary derived from the input.\n",
    "\n",
    "---\n",
    "\n",
    "## Exceptions\n",
    "\n",
    "- **ValueError**:  \n",
    "  Raised if parsing of a string input fails and `suppress` is `False`.\n",
    "\n",
    "---"
   ]
  },
  {
   "cell_type": "markdown",
   "metadata": {},
   "source": [
    "\n",
    "## Examples\n",
    "\n",
    "### Example 1: Converting a Dictionary"
   ]
  },
  {
   "cell_type": "code",
   "execution_count": 1,
   "metadata": {},
   "outputs": [
    {
     "name": "stdout",
     "output_type": "stream",
     "text": [
      "{'a': 1, 'b': 2}\n"
     ]
    }
   ],
   "source": [
    "from lionfuncs.data_handlers.to_dict import to_dict\n",
    "from lionfuncs.parsers.as_readable_json import as_readable_json\n",
    "\n",
    "data = {\"a\": 1, \"b\": 2}\n",
    "result = to_dict(data)\n",
    "print(as_readable_json(result))"
   ]
  },
  {
   "cell_type": "markdown",
   "metadata": {},
   "source": [
    "### Example 2: Converting a JSON String"
   ]
  },
  {
   "cell_type": "code",
   "execution_count": 2,
   "metadata": {},
   "outputs": [
    {
     "name": "stdout",
     "output_type": "stream",
     "text": [
      "{'x': 10}\n"
     ]
    }
   ],
   "source": [
    "json_str = '{\"x\": 10}'\n",
    "result = to_dict(json_str)\n",
    "print(result)"
   ]
  },
  {
   "cell_type": "markdown",
   "metadata": {},
   "source": [
    "### Example 3: Converting an XML String"
   ]
  },
  {
   "cell_type": "code",
   "execution_count": 3,
   "metadata": {},
   "outputs": [
    {
     "name": "stdout",
     "output_type": "stream",
     "text": [
      "{'a': '1'}\n"
     ]
    }
   ],
   "source": [
    "xml_str = \"<root><a>1</a></root>\"\n",
    "result = to_dict(xml_str, str_type=\"xml\")\n",
    "print(result)"
   ]
  },
  {
   "cell_type": "markdown",
   "metadata": {},
   "source": [
    "### Example 4: Using Fuzzy Parsing"
   ]
  },
  {
   "cell_type": "code",
   "execution_count": 4,
   "metadata": {},
   "outputs": [
    {
     "name": "stdout",
     "output_type": "stream",
     "text": [
      "{'a': 1, 'b': 2}\n"
     ]
    }
   ],
   "source": [
    "fuzzy_json = \"{'a': 1, 'b': 2}\"  # Invalid JSON but can be fuzzy parsed\n",
    "result = to_dict(fuzzy_json, fuzzy_parse=True)\n",
    "print(result)"
   ]
  },
  {
   "cell_type": "markdown",
   "metadata": {},
   "source": [
    "### Example 5: Converting a Custom Object with `model_dump`"
   ]
  },
  {
   "cell_type": "code",
   "execution_count": 5,
   "metadata": {},
   "outputs": [
    {
     "name": "stdout",
     "output_type": "stream",
     "text": [
      "{'x': 1, 'y': 2}\n"
     ]
    }
   ],
   "source": [
    "from lionfuncs import check_import\n",
    "\n",
    "BaseModel = check_import(\"pydantic\", import_name=\"BaseModel\")\n",
    "\n",
    "\n",
    "class MyModel(BaseModel):\n",
    "    x: int\n",
    "    y: int\n",
    "\n",
    "\n",
    "model_instance = MyModel(x=1, y=2)\n",
    "result = to_dict(model_instance)\n",
    "print(result)"
   ]
  },
  {
   "cell_type": "markdown",
   "metadata": {},
   "source": [
    "\n",
    "### Example 6: Converting a Set"
   ]
  },
  {
   "cell_type": "code",
   "execution_count": 6,
   "metadata": {},
   "outputs": [
    {
     "name": "stdout",
     "output_type": "stream",
     "text": [
      "{1: 1, 2: 2, 3: 3}\n"
     ]
    }
   ],
   "source": [
    "input_set = {1, 2, 3}\n",
    "result = to_dict(input_set)\n",
    "print(result)"
   ]
  },
  {
   "cell_type": "markdown",
   "metadata": {},
   "source": [
    "\n",
    "### Example 7: Converting a Sequence\n"
   ]
  },
  {
   "cell_type": "code",
   "execution_count": 7,
   "metadata": {},
   "outputs": [
    {
     "name": "stdout",
     "output_type": "stream",
     "text": [
      "{0: 10, 1: 20, 2: 30}\n"
     ]
    }
   ],
   "source": [
    "input_list = [10, 20, 30]\n",
    "result = to_dict(input_list)\n",
    "print(result)"
   ]
  },
  {
   "cell_type": "markdown",
   "metadata": {},
   "source": [
    "### Example 8: Using a Custom Parser"
   ]
  },
  {
   "cell_type": "code",
   "execution_count": 8,
   "metadata": {},
   "outputs": [
    {
     "name": "stdout",
     "output_type": "stream",
     "text": [
      "{'custom_parsed': 'CUSTOM INPUT'}\n"
     ]
    }
   ],
   "source": [
    "def custom_parser(s):\n",
    "    return {\"custom_parsed\": s.upper()}\n",
    "\n",
    "\n",
    "input_str = \"custom input\"\n",
    "result = to_dict(input_str, parser=custom_parser)\n",
    "print(result)"
   ]
  },
  {
   "cell_type": "markdown",
   "metadata": {},
   "source": [
    "### Example 9: Suppressing Exceptions"
   ]
  },
  {
   "cell_type": "code",
   "execution_count": 9,
   "metadata": {},
   "outputs": [
    {
     "name": "stdout",
     "output_type": "stream",
     "text": [
      "{}\n"
     ]
    }
   ],
   "source": [
    "invalid_json = \"{invalid: json}\"\n",
    "result = to_dict(invalid_json, suppress=True)\n",
    "print(result)"
   ]
  },
  {
   "cell_type": "markdown",
   "metadata": {},
   "source": [
    "## Recursion"
   ]
  },
  {
   "cell_type": "code",
   "execution_count": null,
   "metadata": {},
   "outputs": [],
   "source": [
    "nested_data = {\"a\": '{\"b\": \"1\"}', \"c\": ['{\"d\": \"2\"}', \"e\", '{\"f\": {\"g\": 4}}']}\n",
    "\n",
    "print(as_readable_json(nested_data))"
   ]
  },
  {
   "cell_type": "code",
   "execution_count": null,
   "metadata": {},
   "outputs": [],
   "source": [
    "print(to_dict(nested_data))"
   ]
  },
  {
   "cell_type": "code",
   "execution_count": null,
   "metadata": {},
   "outputs": [],
   "source": [
    "print(to_dict(nested_data, recursive=True))"
   ]
  },
  {
   "cell_type": "markdown",
   "metadata": {},
   "source": [
    "---\n",
    "\n",
    "## Notes\n",
    "\n",
    "- The function first checks if the input is a dictionary; if so, it returns it directly.\n",
    "- If `use_model_dump` is `True` and the input object has a `model_dump()` method, that method is used to convert the object to a dictionary.\n",
    "- For string inputs, the function attempts to parse the string as JSON or XML based on `str_type`. If a custom `parser` is provided, it is used instead.\n",
    "- If `fuzzy_parse` is `True` and the input is a string, the function uses `fuzzy_parse_json` to parse the string, which can handle JSON-like strings that are not strictly valid JSON.\n",
    "- If the input is a set, it is converted to a dictionary with elements as both keys and values.\n",
    "- If the input is an iterable (e.g., list, tuple), it is converted to a dictionary with indices as keys.\n",
    "- If the input object has methods like `to_dict()`, `dict()`, `json()`, or `to_json()`, the function tries to use these methods to obtain a dictionary.\n",
    "- If the input object has a `__dict__` attribute, it is returned.\n",
    "- If all else fails, the function attempts to convert the input to a dictionary using `dict(input_)`.\n",
    "\n",
    "---\n",
    "\n",
    "## Error Types\n",
    "\n",
    "- **ValueError:**  \n",
    "  Raised when the input string cannot be parsed into a dictionary (e.g., invalid JSON or XML format) and `suppress` is `False`.\n",
    "\n",
    "- **TypeError:**  \n",
    "  Raised when the input object is of an unsupported type and cannot be converted into a dictionary.\n",
    "\n",
    "---\n",
    "\n",
    "## Conclusion\n",
    "\n",
    "The `to_dict` function is a versatile utility for converting different types of data into a dictionary format. It simplifies data handling by providing support for multiple input types and customizable parsing options.\n",
    "\n",
    "---"
   ]
  },
  {
   "cell_type": "code",
   "execution_count": null,
   "metadata": {},
   "outputs": [],
   "source": []
  }
 ],
 "metadata": {
  "kernelspec": {
   "display_name": "Python 3",
   "language": "python",
   "name": "python3"
  },
  "language_info": {
   "codemirror_mode": {
    "name": "ipython",
    "version": 3
   },
   "file_extension": ".py",
   "mimetype": "text/x-python",
   "name": "python",
   "nbconvert_exporter": "python",
   "pygments_lexer": "ipython3",
   "version": "3.12.4"
  }
 },
 "nbformat": 4,
 "nbformat_minor": 2
}
