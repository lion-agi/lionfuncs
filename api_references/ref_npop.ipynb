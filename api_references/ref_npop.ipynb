{
 "cells": [
  {
   "cell_type": "markdown",
   "metadata": {},
   "source": [
    "# npop Function API Reference\n",
    "\n",
    "The `npop` function removes and returns a value from a nested data structure (dictionaries and lists) based on a sequence of indices or keys. It navigates through the structure according to the provided path, removes the specified element, and modifies the original data structure in place.\n",
    "\n",
    "---\n",
    "\n",
    "## Function Signature\n",
    "\n",
    "```python\n",
    "def npop(nested_structure, indices, default=LN_UNDEFINED):\n",
    "    ...\n",
    "```\n",
    "\n",
    "---\n",
    "\n",
    "## Parameters\n",
    "\n",
    "- **nested_structure** (`dict`, `list`, or nested combination):  \n",
    "  The data structure from which the value will be removed. It can be a dictionary, a list, or a nested combination of both.\n",
    "\n",
    "- **indices** (`list`):  \n",
    "  A list of keys or indices that specify the path to the value that should be removed. Keys are used for dictionaries, and indices (integers) are used for lists.\n",
    "\n",
    "- **default** (any, optional):  \n",
    "  A default value to return if the specified path does not exist. If not provided and the path is invalid, a `KeyError` is raised.\n",
    "\n",
    "---\n",
    "\n",
    "## Returns\n",
    "\n",
    "- **value** (any):  \n",
    "  The value that was removed from the specified path within the nested structure.\n",
    "\n",
    "---\n",
    "\n",
    "## Raises\n",
    "\n",
    "- **ValueError**:  \n",
    "  If the `indices` list is empty.\n",
    "\n",
    "- **KeyError**:  \n",
    "  If the specified path does not exist in the nested structure and no default value is provided.\n",
    "\n",
    "---"
   ]
  },
  {
   "cell_type": "markdown",
   "metadata": {},
   "source": [
    "## Examples\n",
    "\n",
    "### Example 1: Removing a Value from a Nested Dictionary"
   ]
  },
  {
   "cell_type": "code",
   "execution_count": 1,
   "metadata": {},
   "outputs": [
    {
     "name": "stdout",
     "output_type": "stream",
     "text": [
      "3\n",
      "{'a': {'b': {}}}\n"
     ]
    }
   ],
   "source": [
    "from lionfuncs.data_handlers.npop import npop\n",
    "\n",
    "data = {\"a\": {\"b\": {\"c\": 3}}}\n",
    "indices = [\"a\", \"b\", \"c\"]\n",
    "\n",
    "value = npop(data, indices)\n",
    "print(value)  # Output: 3\n",
    "print(data)  # Output: {'a': {'b': {}}}"
   ]
  },
  {
   "cell_type": "markdown",
   "metadata": {},
   "source": [
    "**Explanation:**  \n",
    "The function removes the value `3` located at `data[\"a\"][\"b\"][\"c\"]`. After removal, `data[\"a\"][\"b\"]` becomes an empty dictionary.\n",
    "\n",
    "---"
   ]
  },
  {
   "cell_type": "markdown",
   "metadata": {},
   "source": [
    "### Example 2: Removing an Element from a Nested List"
   ]
  },
  {
   "cell_type": "code",
   "execution_count": 2,
   "metadata": {},
   "outputs": [
    {
     "name": "stdout",
     "output_type": "stream",
     "text": [
      "3\n",
      "[1, [2, [4]], 5]\n"
     ]
    }
   ],
   "source": [
    "data = [1, [2, [3, 4]], 5]\n",
    "indices = [1, 1, 0]\n",
    "\n",
    "value = npop(data, indices)\n",
    "print(value)  # Output: 3\n",
    "print(data)  # Output: [1, [2, [4]], 5]"
   ]
  },
  {
   "cell_type": "markdown",
   "metadata": {},
   "source": [
    "**Explanation:**  \n",
    "The function removes the element `3` from the nested list at `data[1][1][0]`.\n",
    "\n",
    "---"
   ]
  },
  {
   "cell_type": "markdown",
   "metadata": {},
   "source": [
    "### Example 3: Using a Default Value When Path Does Not Exist"
   ]
  },
  {
   "cell_type": "code",
   "execution_count": 3,
   "metadata": {},
   "outputs": [
    {
     "name": "stdout",
     "output_type": "stream",
     "text": [
      "10\n",
      "{'a': {'b': 2}}\n"
     ]
    }
   ],
   "source": [
    "data = {\"a\": {\"b\": 2}}\n",
    "indices = [\"a\", \"c\"]\n",
    "default_value = 10\n",
    "\n",
    "value = npop(data, indices, default=default_value)\n",
    "print(value)  # Output: 10\n",
    "print(data)  # Output: {'a': {'b': 2}}"
   ]
  },
  {
   "cell_type": "markdown",
   "metadata": {},
   "source": [
    "\n",
    "**Explanation:**  \n",
    "Since the path `[\"a\", \"c\"]` does not exist, the function returns the default value `10` and leaves the original data unchanged.\n",
    "\n",
    "---"
   ]
  },
  {
   "cell_type": "markdown",
   "metadata": {},
   "source": [
    "### Example 4: Removing a Key with Special Characters"
   ]
  },
  {
   "cell_type": "code",
   "execution_count": 4,
   "metadata": {},
   "outputs": [
    {
     "name": "stdout",
     "output_type": "stream",
     "text": [
      "value\n",
      "{'key with spaces': {}}\n"
     ]
    }
   ],
   "source": [
    "data = {\"key with spaces\": {\"nested\": \"value\"}}\n",
    "indices = [\"key with spaces\", \"nested\"]\n",
    "\n",
    "value = npop(data, indices)\n",
    "print(value)  # Output: \"value\"\n",
    "print(data)  # Output: {'key with spaces': {}}"
   ]
  },
  {
   "cell_type": "markdown",
   "metadata": {},
   "source": [
    "**Explanation:**  \n",
    "The function can handle keys that contain spaces or special characters.\n",
    "\n",
    "---"
   ]
  },
  {
   "cell_type": "markdown",
   "metadata": {},
   "source": [
    "### Example 5: Removing an Item Using a Tuple as a Key"
   ]
  },
  {
   "cell_type": "code",
   "execution_count": 5,
   "metadata": {},
   "outputs": [
    {
     "name": "stdout",
     "output_type": "stream",
     "text": [
      "tuple key\n",
      "{}\n"
     ]
    }
   ],
   "source": [
    "data = {(1, 2): \"tuple key\"}\n",
    "indices = [(1, 2)]\n",
    "\n",
    "value = npop(data, indices)\n",
    "print(value)  # Output: \"tuple key\"\n",
    "print(data)  # Output: {}"
   ]
  },
  {
   "cell_type": "markdown",
   "metadata": {},
   "source": [
    "**Explanation:**  \n",
    "Tuples can be used as dictionary keys, and the function can remove items using such keys.\n",
    "\n",
    "---"
   ]
  },
  {
   "cell_type": "markdown",
   "metadata": {},
   "source": [
    "## Notes\n",
    "\n",
    "- **In-Place Modification:**  \n",
    "  The `npop` function modifies the original `nested_structure` in place.\n",
    "\n",
    "- **Path Traversal:**  \n",
    "  The function traverses the nested structure using the provided `indices`. It supports both dictionary keys and list indices.\n",
    "\n",
    "- **Default Value:**  \n",
    "  If the specified path does not exist and a `default` value is provided, the function returns the `default` value without modifying the data structure.\n",
    "\n",
    "- **Empty Indices List:**  \n",
    "  Providing an empty `indices` list raises a `ValueError` because the function needs at least one index to operate.\n",
    "\n",
    "- **Exception Handling:**  \n",
    "  If the path does not exist and no `default` is provided, a `KeyError` is raised.\n",
    "\n",
    "---\n",
    "\n",
    "## Conclusion\n",
    "\n",
    "The `npop` function is a useful utility for removing elements from complex nested data structures. It allows for flexible navigation using a sequence of indices or keys and handles both dictionaries and lists seamlessly. By providing a `default` value, you can prevent exceptions when attempting to remove non-existent elements.\n",
    "\n",
    "---"
   ]
  },
  {
   "cell_type": "code",
   "execution_count": null,
   "metadata": {},
   "outputs": [],
   "source": []
  }
 ],
 "metadata": {
  "kernelspec": {
   "display_name": "Python 3",
   "language": "python",
   "name": "python3"
  },
  "language_info": {
   "codemirror_mode": {
    "name": "ipython",
    "version": 3
   },
   "file_extension": ".py",
   "mimetype": "text/x-python",
   "name": "python",
   "nbconvert_exporter": "python",
   "pygments_lexer": "ipython3",
   "version": "3.12.4"
  }
 },
 "nbformat": 4,
 "nbformat_minor": 2
}
