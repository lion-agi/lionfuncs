{
 "cells": [
  {
   "cell_type": "markdown",
   "metadata": {},
   "source": [
    "# `to_list` Function API Reference\n",
    "\n",
    "The `to_list` function converts various input types into a list. It can handle multiple input types, including primitives, iterables, mappings, and custom objects, with options to flatten nested structures, remove `None` values, and return unique elements.\n",
    "\n",
    "---\n",
    "\n",
    "## Function Signature\n",
    "\n",
    "```python\n",
    "def to_list(\n",
    "    input_: Any,\n",
    "    /,\n",
    "    *,\n",
    "    flatten: bool = False,\n",
    "    dropna: bool = False,\n",
    "    unique: bool = False,\n",
    "    use_values: bool = False,\n",
    ") -> list:\n",
    "    ...\n",
    "```\n",
    "\n",
    "---\n",
    "\n",
    "## Parameters\n",
    "\n",
    "- **input_** (`Any`):  \n",
    "  The input to convert into a list. It can be any type, including primitives, iterables, mappings, strings, bytes, etc.\n",
    "\n",
    "- **flatten** (`bool`, optional):  \n",
    "  If `True`, the function will recursively flatten any nested iterables (excluding strings, bytes, bytearrays, and mappings). Default is `False`.\n",
    "\n",
    "- **dropna** (`bool`, optional):  \n",
    "  If `True`, the function will remove any `None` values from the resulting list. Default is `False`.\n",
    "\n",
    "- **unique** (`bool`, optional):  \n",
    "  If `True`, the function will return a list of unique elements. This option requires `flatten=True`. Default is `False`.\n",
    "\n",
    "- **use_values** (`bool`, optional):  \n",
    "  If `True` and the input is a mapping (e.g., a dictionary), the function will use the mapping's values instead of the mapping itself. Default is `False`.\n",
    "\n",
    "---\n",
    "\n",
    "## Returns\n",
    "\n",
    "- **list**:  \n",
    "  A list derived from the input, processed according to the specified parameters.\n",
    "\n",
    "---\n",
    "\n",
    "## Raises\n",
    "\n",
    "- **ValueError**:  \n",
    "  Raised if `unique=True` and `flatten=False`, since uniqueness can only be ensured on a flattened list.\n",
    "\n",
    "---\n"
   ]
  },
  {
   "cell_type": "markdown",
   "metadata": {},
   "source": [
    "## Examples\n",
    "\n",
    "### Example 1: Converting a Primitive Type"
   ]
  },
  {
   "cell_type": "code",
   "execution_count": 1,
   "metadata": {},
   "outputs": [
    {
     "name": "stdout",
     "output_type": "stream",
     "text": [
      "[42]\n"
     ]
    }
   ],
   "source": [
    "from lionfuncs.data_handlers.to_list import to_list\n",
    "\n",
    "result = to_list(42)\n",
    "print(result)"
   ]
  },
  {
   "cell_type": "markdown",
   "metadata": {},
   "source": [
    "**Explanation:**  \n",
    "A single primitive value is placed into a list.\n",
    "\n",
    "---"
   ]
  },
  {
   "cell_type": "markdown",
   "metadata": {},
   "source": [
    "\n",
    "\n",
    "### Example 2: Converting an Iterable"
   ]
  },
  {
   "cell_type": "code",
   "execution_count": 2,
   "metadata": {},
   "outputs": [
    {
     "name": "stdout",
     "output_type": "stream",
     "text": [
      "[1, 2, 3]\n"
     ]
    }
   ],
   "source": [
    "result = to_list([1, 2, 3])\n",
    "print(result)"
   ]
  },
  {
   "cell_type": "markdown",
   "metadata": {},
   "source": [
    "**Explanation:**  \n",
    "A list input is returned as is.\n",
    "\n",
    "---\n"
   ]
  },
  {
   "cell_type": "markdown",
   "metadata": {},
   "source": [
    "### Example 3: Flattening Nested Lists"
   ]
  },
  {
   "cell_type": "code",
   "execution_count": 3,
   "metadata": {},
   "outputs": [
    {
     "name": "stdout",
     "output_type": "stream",
     "text": [
      "[1, 2, 3, 4, 5]\n"
     ]
    }
   ],
   "source": [
    "nested_list = [1, [2, [3, 4]], 5]\n",
    "result = to_list(nested_list, flatten=True)\n",
    "print(result)"
   ]
  },
  {
   "cell_type": "markdown",
   "metadata": {},
   "source": [
    "**Explanation:**  \n",
    "Nested lists are recursively flattened into a single list.\n",
    "\n",
    "---"
   ]
  },
  {
   "cell_type": "markdown",
   "metadata": {},
   "source": [
    "### Example 4: Removing `None` Values\n"
   ]
  },
  {
   "cell_type": "code",
   "execution_count": 4,
   "metadata": {},
   "outputs": [
    {
     "name": "stdout",
     "output_type": "stream",
     "text": [
      "[1, 2, 3]\n"
     ]
    }
   ],
   "source": [
    "input_list = [1, None, 2, None, 3]\n",
    "result = to_list(input_list, dropna=True)\n",
    "print(result)"
   ]
  },
  {
   "cell_type": "markdown",
   "metadata": {},
   "source": [
    "**Explanation:**  \n",
    "`None` values are removed from the list.\n",
    "\n",
    "---"
   ]
  },
  {
   "cell_type": "markdown",
   "metadata": {},
   "source": [
    "### Example 5: Combining Flatten and Dropna"
   ]
  },
  {
   "cell_type": "code",
   "execution_count": 5,
   "metadata": {},
   "outputs": [
    {
     "name": "stdout",
     "output_type": "stream",
     "text": [
      "[1, 2, 3, 4]\n"
     ]
    }
   ],
   "source": [
    "complex_list = [1, None, [2, None, [3, None]], 4]\n",
    "result = to_list(complex_list, flatten=True, dropna=True)\n",
    "print(result)"
   ]
  },
  {
   "cell_type": "markdown",
   "metadata": {},
   "source": [
    "**Explanation:**  \n",
    "The list is flattened, and `None` values are removed.\n",
    "\n",
    "---"
   ]
  },
  {
   "cell_type": "markdown",
   "metadata": {},
   "source": [
    "### Example 6: Ensuring Unique Elements"
   ]
  },
  {
   "cell_type": "code",
   "execution_count": 6,
   "metadata": {},
   "outputs": [
    {
     "name": "stdout",
     "output_type": "stream",
     "text": [
      "[1, 2, 3]\n"
     ]
    }
   ],
   "source": [
    "input_list = [1, [2, 3], [1, 2]]\n",
    "result = to_list(input_list, flatten=True, unique=True)\n",
    "print(result)"
   ]
  },
  {
   "cell_type": "markdown",
   "metadata": {},
   "source": [
    "**Explanation:**  \n",
    "After flattening, duplicate elements are removed.\n",
    "\n",
    "---"
   ]
  },
  {
   "cell_type": "markdown",
   "metadata": {},
   "source": [
    "### Example 7: Using `use_values` with a Mapping"
   ]
  },
  {
   "cell_type": "code",
   "execution_count": 7,
   "metadata": {},
   "outputs": [
    {
     "name": "stdout",
     "output_type": "stream",
     "text": [
      "[1, 2]\n"
     ]
    }
   ],
   "source": [
    "input_dict = {'a': 1, 'b': 2}\n",
    "result = to_list(input_dict, use_values=True)\n",
    "print(result)"
   ]
  },
  {
   "cell_type": "markdown",
   "metadata": {},
   "source": [
    "**Explanation:**  \n",
    "The values of the dictionary are extracted into a list.\n",
    "\n",
    "---"
   ]
  },
  {
   "cell_type": "markdown",
   "metadata": {},
   "source": [
    "\n",
    "### Example 8: Handling Custom Iterables"
   ]
  },
  {
   "cell_type": "code",
   "execution_count": 8,
   "metadata": {},
   "outputs": [
    {
     "name": "stdout",
     "output_type": "stream",
     "text": [
      "[10, 20, 30]\n"
     ]
    }
   ],
   "source": [
    "class CustomIterable:\n",
    "    def __iter__(self):\n",
    "        return iter([10, 20, 30])\n",
    "\n",
    "custom_obj = CustomIterable()\n",
    "result = to_list(custom_obj)\n",
    "print(result)"
   ]
  },
  {
   "cell_type": "markdown",
   "metadata": {},
   "source": [
    "**Explanation:**  \n",
    "Custom iterable objects are converted to lists by iterating over them.\n",
    "\n",
    "---"
   ]
  },
  {
   "cell_type": "markdown",
   "metadata": {},
   "source": [
    "### Example 9: Converting a String"
   ]
  },
  {
   "cell_type": "code",
   "execution_count": 9,
   "metadata": {},
   "outputs": [
    {
     "name": "stdout",
     "output_type": "stream",
     "text": [
      "['hello']\n"
     ]
    }
   ],
   "source": [
    "result = to_list(\"hello\")\n",
    "print(result)"
   ]
  },
  {
   "cell_type": "markdown",
   "metadata": {},
   "source": [
    "\n",
    "**Explanation:**  \n",
    "Strings are considered as single elements unless `use_values` is `True`.\n",
    "\n",
    "---"
   ]
  },
  {
   "cell_type": "markdown",
   "metadata": {},
   "source": [
    "\n",
    "### Example 10: Using `use_values` with a String"
   ]
  },
  {
   "cell_type": "code",
   "execution_count": 10,
   "metadata": {},
   "outputs": [
    {
     "name": "stdout",
     "output_type": "stream",
     "text": [
      "['h', 'e', 'l', 'l', 'o']\n"
     ]
    }
   ],
   "source": [
    "result = to_list(\"hello\", use_values=True)\n",
    "print(result)"
   ]
  },
  {
   "cell_type": "markdown",
   "metadata": {},
   "source": [
    "**Explanation:**  \n",
    "When `use_values` is `True`, the string is treated as an iterable of characters.\n",
    "\n",
    "---"
   ]
  },
  {
   "cell_type": "markdown",
   "metadata": {},
   "source": [
    "\n",
    "\n",
    "## Notes\n",
    "\n",
    "- **Handling of Iterables:**  \n",
    "  The function treats any object that implements the `Iterable` interface (excluding strings, bytes, bytearrays, and mappings unless `use_values` is `True`) as a sequence to be converted into a list.\n",
    "\n",
    "- **Flattening Behavior:**  \n",
    "  When `flatten=True`, the function recursively flattens nested iterables. Strings, bytes, bytearrays, and mappings are not flattened to avoid breaking them into individual characters or key-value pairs.\n",
    "\n",
    "- **Drop `None` Values:**  \n",
    "  When `dropna=True`, any `None` values encountered in the input (including within nested structures when flattening) are omitted from the output list.\n",
    "\n",
    "- **Uniqueness Constraint:**  \n",
    "  Setting `unique=True` removes duplicate elements from the list. This requires flattening to ensure that all elements are at the same level for comparison.\n",
    "\n",
    "- **Use Values in Mappings:**  \n",
    "  When `use_values=True` and the input is a mapping (e.g., a dictionary), the function uses the mapping's values instead of the mapping itself.\n",
    "\n",
    "- **Custom Objects:**  \n",
    "  If the input object is not iterable or does not fall into the other special cases, it is placed into a list as a single element.\n",
    "\n",
    "---\n",
    "\n",
    "## Exceptions\n",
    "\n",
    "- **ValueError:**  \n",
    "  Raised when `unique=True` is specified without setting `flatten=True`, as uniqueness can only be ensured on a flat list.\n",
    "\n",
    "---\n",
    "\n",
    "## Conclusion\n",
    "\n",
    "The `to_list` function is a versatile utility for converting various data types into a list, with options to control the structure and contents of the resulting list. It simplifies data handling by providing flexible parameters to flatten nested structures, remove `None` values, and ensure uniqueness.\n",
    "\n",
    "---"
   ]
  },
  {
   "cell_type": "code",
   "execution_count": null,
   "metadata": {},
   "outputs": [],
   "source": []
  }
 ],
 "metadata": {
  "kernelspec": {
   "display_name": "Python 3",
   "language": "python",
   "name": "python3"
  },
  "language_info": {
   "codemirror_mode": {
    "name": "ipython",
    "version": 3
   },
   "file_extension": ".py",
   "mimetype": "text/x-python",
   "name": "python",
   "nbconvert_exporter": "python",
   "pygments_lexer": "ipython3",
   "version": "3.12.4"
  }
 },
 "nbformat": 4,
 "nbformat_minor": 2
}
