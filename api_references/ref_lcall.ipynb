{
 "cells": [
  {
   "cell_type": "code",
   "execution_count": 16,
   "metadata": {},
   "outputs": [],
   "source": [
    "from lionfuncs import lcall, alcall, time"
   ]
  },
  {
   "cell_type": "code",
   "execution_count": 17,
   "metadata": {},
   "outputs": [
    {
     "name": "stdout",
     "output_type": "stream",
     "text": [
      "1\n",
      "2\n",
      "3\n",
      "4\n"
     ]
    },
    {
     "data": {
      "text/plain": [
       "[None, None, None, None]"
      ]
     },
     "execution_count": 17,
     "metadata": {},
     "output_type": "execute_result"
    }
   ],
   "source": [
    "lcall(range(1, 5), lambda x: print(x))"
   ]
  },
  {
   "cell_type": "code",
   "execution_count": 18,
   "metadata": {},
   "outputs": [
    {
     "data": {
      "text/plain": [
       "[1, 2, 3, 4, 6, 7, 55]"
      ]
     },
     "execution_count": 18,
     "metadata": {},
     "output_type": "execute_result"
    }
   ],
   "source": [
    "lcall(\n",
    "    [1, 2, [3, 4, [55, 6, 2]], 3, [6, None], 7, 6],\n",
    "    lambda x: x,\n",
    "    flatten=True,\n",
    "    dropna=True,\n",
    "    unique=True,\n",
    ")"
   ]
  },
  {
   "cell_type": "code",
   "execution_count": 19,
   "metadata": {},
   "outputs": [],
   "source": [
    "import asyncio\n",
    "\n",
    "\n",
    "async def mock_func(i):\n",
    "    await asyncio.sleep(0.01)\n",
    "    if i // 7 == 0:\n",
    "        raise ValueError(\"ValueError\")\n",
    "    return i"
   ]
  },
  {
   "cell_type": "code",
   "execution_count": 20,
   "metadata": {},
   "outputs": [
    {
     "name": "stdout",
     "output_type": "stream",
     "text": [
      "Attempt 1/3 failed: ValueError, retrying...\n",
      "Attempt 1/3 failed: ValueError, retrying...\n",
      "Attempt 1/3 failed: ValueError, retrying...\n",
      "Attempt 1/3 failed: ValueError, retrying...\n",
      "Attempt 1/3 failed: ValueError, retrying...\n",
      "Attempt 1/3 failed: ValueError, retrying...\n",
      "Attempt 1/3 failed: ValueError, retrying...\n",
      "Attempt 2/3 failed: ValueError, retrying...\n",
      "Attempt 2/3 failed: ValueError, retrying...\n",
      "Attempt 2/3 failed: ValueError, retrying...\n",
      "Attempt 2/3 failed: ValueError, retrying...\n",
      "Attempt 2/3 failed: ValueError, retrying...\n"
     ]
    },
    {
     "name": "stdout",
     "output_type": "stream",
     "text": [
      "Attempt 2/3 failed: ValueError, retrying...\n",
      "Attempt 2/3 failed: ValueError, retrying...\n",
      "Time: 0.311s\n"
     ]
    }
   ],
   "source": [
    "start = time()\n",
    "\n",
    "inputs = range(100)\n",
    "out = await alcall(\n",
    "    inputs,\n",
    "    mock_func,\n",
    "    num_retries=2,\n",
    "    retry_delay=0.1,\n",
    "    retry_default=None,\n",
    "    max_concurrent=10,\n",
    ")\n",
    "\n",
    "end = time() - start\n",
    "print(f\"Time: {end:.3f}s\")"
   ]
  },
  {
   "cell_type": "code",
   "execution_count": null,
   "metadata": {},
   "outputs": [],
   "source": []
  }
 ],
 "metadata": {
  "kernelspec": {
   "display_name": "Python 3",
   "language": "python",
   "name": "python3"
  },
  "language_info": {
   "codemirror_mode": {
    "name": "ipython",
    "version": 3
   },
   "file_extension": ".py",
   "mimetype": "text/x-python",
   "name": "python",
   "nbconvert_exporter": "python",
   "pygments_lexer": "ipython3",
   "version": "3.12.4"
  }
 },
 "nbformat": 4,
 "nbformat_minor": 2
}
