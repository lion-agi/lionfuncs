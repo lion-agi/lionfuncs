{
 "cells": [
  {
   "cell_type": "markdown",
   "metadata": {},
   "source": [
    "# ninsert Function API Reference\n",
    "\n",
    "The `ninsert` function inserts a value into a nested data structure (dictionaries and lists) at a specified path. It traverses or creates the necessary intermediate structures based on the provided indices and assigns the given value at the destination.\n",
    "\n",
    "---\n",
    "\n",
    "## Function Signature\n",
    "\n",
    "```python\n",
    "def ninsert(nested_structure, indices, value):\n",
    "    ...\n",
    "```\n",
    "\n",
    "---\n",
    "\n",
    "## Parameters\n",
    "\n",
    "- **nested_structure** (`dict`, `list`, or nested combination):  \n",
    "  The data structure into which the value will be inserted. It can be a dictionary, a list, or a nested combination of both.\n",
    "\n",
    "- **indices** (`list`):  \n",
    "  A list of keys or indices that specify the path where the value should be inserted. Keys are used for dictionaries, and indices (integers) are used for lists.\n",
    "\n",
    "- **value** (any):  \n",
    "  The value to insert at the specified path.\n",
    "\n",
    "---\n",
    "\n",
    "## Returns\n",
    "\n",
    "- **None**:  \n",
    "  The function modifies the `nested_structure` in place and does not return anything.\n",
    "\n",
    "---\n",
    "\n",
    "## Raises\n",
    "\n",
    "- **ValueError**:  \n",
    "  If the `indices` list is empty.\n",
    "\n",
    "- **TypeError**:  \n",
    "  If an index is invalid for the type it is indexing into (e.g., using a string key for a list), or if it encounters a type that cannot be indexed into or modified (like a tuple or string).\n",
    "\n",
    "- **AttributeError**:  \n",
    "  If attempting to modify an immutable or unsupported type.\n",
    "\n",
    "---"
   ]
  },
  {
   "cell_type": "markdown",
   "metadata": {},
   "source": [
    "## Examples\n"
   ]
  },
  {
   "cell_type": "markdown",
   "metadata": {},
   "source": [
    "### Example 1: Inserting into a Nested List"
   ]
  },
  {
   "cell_type": "code",
   "execution_count": 1,
   "metadata": {},
   "outputs": [
    {
     "name": "stdout",
     "output_type": "stream",
     "text": [
      "[1, [2, 3, 4]]\n"
     ]
    }
   ],
   "source": [
    "from lionfuncs.data_handlers.ninsert import ninsert\n",
    "\n",
    "data = [1, [2, 3]]\n",
    "indices = [1, 2]\n",
    "value = 4\n",
    "\n",
    "ninsert(data, indices, value)\n",
    "print(data)"
   ]
  },
  {
   "cell_type": "markdown",
   "metadata": {},
   "source": [
    "**Explanation:**  \n",
    "The value `4` is inserted at `data[1][2]`. Since `data[1]` is a list, the value is appended at index `2`.\n",
    "\n",
    "---"
   ]
  },
  {
   "cell_type": "markdown",
   "metadata": {},
   "source": [
    "### Example 2: Inserting into a Nested Dictionary"
   ]
  },
  {
   "cell_type": "code",
   "execution_count": 2,
   "metadata": {},
   "outputs": [
    {
     "name": "stdout",
     "output_type": "stream",
     "text": [
      "{'a': {'b': 2, 'c': 3}}\n"
     ]
    }
   ],
   "source": [
    "data = {\"a\": {\"b\": 2}}\n",
    "indices = [\"a\", \"c\"]\n",
    "value = 3\n",
    "\n",
    "ninsert(data, indices, value)\n",
    "print(data)"
   ]
  },
  {
   "cell_type": "markdown",
   "metadata": {},
   "source": [
    "**Explanation:**  \n",
    "The value `3` is inserted at `data[\"a\"][\"c\"]`. The key `\"c\"` is added to the dictionary `data[\"a\"]`.\n",
    "\n",
    "---"
   ]
  },
  {
   "cell_type": "markdown",
   "metadata": {},
   "source": [
    "### Example 3: Creating Intermediate Structures"
   ]
  },
  {
   "cell_type": "code",
   "execution_count": 3,
   "metadata": {},
   "outputs": [
    {
     "name": "stdout",
     "output_type": "stream",
     "text": [
      "{'a': [{'b': [None, {'c': 42}]}]}\n"
     ]
    }
   ],
   "source": [
    "data = {}\n",
    "indices = [\"a\", 0, \"b\", 1, \"c\"]\n",
    "value = 42\n",
    "\n",
    "ninsert(data, indices, value)\n",
    "print(data)"
   ]
  },
  {
   "cell_type": "markdown",
   "metadata": {},
   "source": [
    "**Explanation:**  \n",
    "Intermediate dictionaries and lists are created to accommodate the indices in the path. The value `42` is inserted at the specified location.\n",
    "\n",
    "---"
   ]
  },
  {
   "cell_type": "markdown",
   "metadata": {},
   "source": [
    "### Example 4: Extending a List to Insert at a Specific Index"
   ]
  },
  {
   "cell_type": "code",
   "execution_count": 4,
   "metadata": {},
   "outputs": [
    {
     "name": "stdout",
     "output_type": "stream",
     "text": [
      "{'a': [1, 2, None, None, None, 3]}\n"
     ]
    }
   ],
   "source": [
    "data = {\"a\": [1, 2]}\n",
    "indices = [\"a\", 5]\n",
    "value = 3\n",
    "\n",
    "ninsert(data, indices, value)\n",
    "print(data)"
   ]
  },
  {
   "cell_type": "markdown",
   "metadata": {},
   "source": [
    "**Explanation:**  \n",
    "The list `data[\"a\"]` is extended with `None` values to reach index `5`, and then `3` is inserted at that index.\n",
    "\n",
    "---"
   ]
  },
  {
   "cell_type": "markdown",
   "metadata": {},
   "source": [
    "\n",
    "\n",
    "### Example 5: Inserting into an Empty Structure"
   ]
  },
  {
   "cell_type": "code",
   "execution_count": 5,
   "metadata": {},
   "outputs": [
    {
     "name": "stdout",
     "output_type": "stream",
     "text": [
      "{'a': {'b': {'c': 1}}}\n"
     ]
    }
   ],
   "source": [
    "data = {}\n",
    "indices = [\"a\", \"b\", \"c\"]\n",
    "value = 1\n",
    "\n",
    "ninsert(data, indices, value)\n",
    "print(data)"
   ]
  },
  {
   "cell_type": "markdown",
   "metadata": {},
   "source": [
    "**Explanation:**  \n",
    "Intermediate dictionaries are created along the path `\"a\" -> \"b\"` to insert the value `1` at `data[\"a\"][\"b\"][\"c\"]`.\n",
    "\n",
    "---"
   ]
  },
  {
   "cell_type": "markdown",
   "metadata": {},
   "source": [
    "### Example 6: Replacing an Existing Value"
   ]
  },
  {
   "cell_type": "code",
   "execution_count": 6,
   "metadata": {},
   "outputs": [
    {
     "name": "stdout",
     "output_type": "stream",
     "text": [
      "{'a': {'b': {'c': 2}}}\n"
     ]
    }
   ],
   "source": [
    "data = {\"a\": {\"b\": {\"c\": 1}}}\n",
    "indices = [\"a\", \"b\", \"c\"]\n",
    "value = 2\n",
    "\n",
    "ninsert(data, indices, value)\n",
    "print(data)"
   ]
  },
  {
   "cell_type": "markdown",
   "metadata": {},
   "source": [
    "**Explanation:**  \n",
    "The existing value at `data[\"a\"][\"b\"][\"c\"]` is overwritten with the new value `2`.\n",
    "\n",
    "---"
   ]
  },
  {
   "cell_type": "markdown",
   "metadata": {},
   "source": [
    "### Example 7: Handling Lists and Dictionaries\n"
   ]
  },
  {
   "cell_type": "code",
   "execution_count": 7,
   "metadata": {},
   "outputs": [
    {
     "name": "stdout",
     "output_type": "stream",
     "text": [
      "{'a': [{'b': 1}]}\n"
     ]
    }
   ],
   "source": [
    "data = {\"a\": []}\n",
    "indices = [\"a\", 0, \"b\"]\n",
    "value = 1\n",
    "\n",
    "ninsert(data, indices, value)\n",
    "print(data)"
   ]
  },
  {
   "cell_type": "markdown",
   "metadata": {},
   "source": [
    "**Explanation:**  \n",
    "A list is accessed at `data[\"a\"]`, and since index `0` does not exist, the list is extended. A dictionary is then created to hold the key `\"b\"` with the value `1`.\n",
    "\n",
    "---"
   ]
  },
  {
   "cell_type": "markdown",
   "metadata": {},
   "source": [
    "### Example 8: Inserting into a List with Non-Sequential Indices"
   ]
  },
  {
   "cell_type": "code",
   "execution_count": 8,
   "metadata": {},
   "outputs": [
    {
     "name": "stdout",
     "output_type": "stream",
     "text": [
      "{'a': [1, 2, None, None, None, 3]}\n"
     ]
    }
   ],
   "source": [
    "data = {\"a\": [1, 2]}\n",
    "indices = [\"a\", 5]\n",
    "value = 3\n",
    "\n",
    "ninsert(data, indices, value)\n",
    "print(data)"
   ]
  },
  {
   "cell_type": "markdown",
   "metadata": {},
   "source": [
    "**Explanation:**  \n",
    "The list is extended to accommodate the index `5`, filling missing positions with `None`.\n",
    "\n",
    "---"
   ]
  },
  {
   "cell_type": "markdown",
   "metadata": {},
   "source": [
    "\n",
    "\n",
    "## Notes\n",
    "\n",
    "- **In-Place Modification:**  \n",
    "  The `ninsert` function modifies the original `nested_structure` in place.\n",
    "\n",
    "- **Creating Intermediate Structures:**  \n",
    "  If the path specified by `indices` does not exist, the function will create dictionaries or lists as needed.\n",
    "\n",
    "- **Index Types:**  \n",
    "  - **For dictionaries:** Keys should be strings or any hashable type.\n",
    "  - **For lists:** Indices should be non-negative integers.\n",
    "\n",
    "- **Type Restrictions:**  \n",
    "  The function cannot modify immutable or unsupported types like tuples, sets, or strings. Attempting to do so will raise a `TypeError` or `AttributeError`.\n",
    "\n",
    "- **Extending Lists:**  \n",
    "  When inserting into a list at an index beyond its current length, the list is extended with `None` values.\n",
    "\n",
    "---"
   ]
  },
  {
   "cell_type": "markdown",
   "metadata": {},
   "source": [
    "\n",
    "\n",
    "## Handling Exceptions"
   ]
  },
  {
   "cell_type": "markdown",
   "metadata": {},
   "source": [
    "\n",
    "\n",
    "### ValueError: Empty Indices List"
   ]
  },
  {
   "cell_type": "code",
   "execution_count": 9,
   "metadata": {},
   "outputs": [
    {
     "name": "stdout",
     "output_type": "stream",
     "text": [
      "Indices list cannot be empty\n"
     ]
    }
   ],
   "source": [
    "data = {\"a\": 1}\n",
    "indices = []\n",
    "value = 2\n",
    "try:\n",
    "    ninsert(data, indices, value)\n",
    "except ValueError as e:\n",
    "    print(e)"
   ]
  },
  {
   "cell_type": "markdown",
   "metadata": {},
   "source": [
    "**Raises:**\n",
    "\n",
    "```python\n",
    "ValueError: Indices list cannot be empty\n",
    "```\n",
    "\n",
    "**Explanation:**  \n",
    "An empty `indices` list does not specify a path for insertion, so the function raises a `ValueError`.\n",
    "\n",
    "---"
   ]
  },
  {
   "cell_type": "markdown",
   "metadata": {},
   "source": [
    "\n",
    "### TypeError: Invalid Index Type"
   ]
  },
  {
   "cell_type": "code",
   "execution_count": 10,
   "metadata": {},
   "outputs": [
    {
     "name": "stdout",
     "output_type": "stream",
     "text": [
      "Cannot use non-integer index on a list\n"
     ]
    }
   ],
   "source": [
    "data = [1, 2, 3]\n",
    "indices = [\"a\"]\n",
    "value = 4\n",
    "try:\n",
    "    ninsert(data, indices, value)\n",
    "except TypeError as e:\n",
    "    print(e)"
   ]
  },
  {
   "cell_type": "markdown",
   "metadata": {},
   "source": [
    "**Raises:**\n",
    "\n",
    "```python\n",
    "TypeError: Expected integer index for list, got str.\n",
    "```\n",
    "\n",
    "**Explanation:**  \n",
    "A string index is invalid for a list; indices for lists must be integers.\n",
    "\n",
    "---"
   ]
  },
  {
   "cell_type": "markdown",
   "metadata": {},
   "source": [
    "\n",
    "### AttributeError: Unsupported Type"
   ]
  },
  {
   "cell_type": "code",
   "execution_count": 11,
   "metadata": {},
   "outputs": [
    {
     "name": "stdout",
     "output_type": "stream",
     "text": [
      "'tuple' object has no attribute 'append'\n"
     ]
    }
   ],
   "source": [
    "data = {\"a\": (1, 2)}\n",
    "indices = [\"a\", 2]\n",
    "value = 3\n",
    "\n",
    "try:\n",
    "    ninsert(data, indices, value)\n",
    "except AttributeError as e:\n",
    "    print(e)"
   ]
  },
  {
   "cell_type": "code",
   "execution_count": 12,
   "metadata": {},
   "outputs": [
    {
     "name": "stdout",
     "output_type": "stream",
     "text": [
      "'set' object has no attribute 'append'\n"
     ]
    }
   ],
   "source": [
    "data = {\"a\": {1, 2}}\n",
    "indices = [\"a\", 3]\n",
    "value = 3\n",
    "\n",
    "try:\n",
    "    ninsert(data, indices, value)\n",
    "except AttributeError as e:\n",
    "    print(e)"
   ]
  },
  {
   "cell_type": "markdown",
   "metadata": {},
   "source": [
    "**Raises:**\n",
    "\n",
    "```python\n",
    "AttributeError: 'set' object has no attribute '__setitem__'\n",
    "```\n",
    "\n",
    "**Explanation:**  \n",
    "Sets are unordered collections and do not support indexing or assignment.\n",
    "\n",
    "---"
   ]
  },
  {
   "cell_type": "markdown",
   "metadata": {},
   "source": [
    "### TypeError: Replacing Primitive with Structure"
   ]
  },
  {
   "cell_type": "code",
   "execution_count": 13,
   "metadata": {},
   "outputs": [
    {
     "name": "stdout",
     "output_type": "stream",
     "text": [
      "'int' object does not support item assignment\n"
     ]
    }
   ],
   "source": [
    "data = {\"a\": 1}\n",
    "indices = [\"a\", \"b\"]\n",
    "value = 2\n",
    "\n",
    "try:\n",
    "    ninsert(data, indices, value)\n",
    "except TypeError as e:\n",
    "    print(e)"
   ]
  },
  {
   "cell_type": "markdown",
   "metadata": {},
   "source": [
    "**Raises:**\n",
    "\n",
    "```python\n",
    "TypeError: Cannot assign to path 'a -> b' because 'a' is of type 'int', not 'dict' or 'list'.\n",
    "```\n",
    "\n",
    "**Explanation:**  \n",
    "You cannot assign a key `\"b\"` to an integer. The existing value at `data[\"a\"]` is a primitive type and cannot hold child keys.\n",
    "\n",
    "---"
   ]
  },
  {
   "cell_type": "markdown",
   "metadata": {},
   "source": [
    "## Implementation Details\n",
    "\n",
    "- The `ninsert` function is part of the `lionfuncs.data_handlers` module.\n",
    "- It is designed to handle complex nested data structures with a mix of dictionaries and lists.\n",
    "- The function uses recursion or iteration to navigate and modify the nested structure based on the provided indices.\n",
    "\n",
    "---\n",
    "\n",
    "## Conclusion\n",
    "\n",
    "The `ninsert` function is a versatile utility for inserting values into nested data structures. It simplifies the process of modifying complex data by handling the creation of intermediate structures and extending lists as needed. By carefully specifying the path with the correct indices, you can efficiently update your data structures in place.\n",
    "\n",
    "---\n"
   ]
  },
  {
   "cell_type": "code",
   "execution_count": null,
   "metadata": {},
   "outputs": [],
   "source": []
  }
 ],
 "metadata": {
  "kernelspec": {
   "display_name": "Python 3",
   "language": "python",
   "name": "python3"
  },
  "language_info": {
   "codemirror_mode": {
    "name": "ipython",
    "version": 3
   },
   "file_extension": ".py",
   "mimetype": "text/x-python",
   "name": "python",
   "nbconvert_exporter": "python",
   "pygments_lexer": "ipython3",
   "version": "3.12.4"
  }
 },
 "nbformat": 4,
 "nbformat_minor": 2
}
