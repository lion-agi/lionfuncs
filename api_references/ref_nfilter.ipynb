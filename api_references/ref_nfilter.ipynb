{
 "cells": [
  {
   "cell_type": "markdown",
   "metadata": {},
   "source": [
    "# nfilter Function API Reference\n",
    "\n",
    "The `nfilter` function recursively filters nested data structures (dictionaries and lists) based on a provided condition function. It traverses the nested structure and retains only those elements that satisfy the specified condition.\n",
    "\n",
    "---\n",
    "\n",
    "## Function Signature\n",
    "\n",
    "```python\n",
    "def nfilter(nested_structure, condition):\n",
    "    ...\n",
    "```\n",
    "\n",
    "## Parameters\n",
    "\n",
    "- **nested_structure** (`dict` or `list`):  \n",
    "  The nested data structure to filter. It can be a dictionary, a list, or a nested combination of both.\n",
    "\n",
    "- **condition** (`callable`):  \n",
    "  A function that takes an element from the nested structure and returns `True` if the element should be kept, or `False` if it should be filtered out.\n",
    "\n",
    "---\n",
    "\n",
    "## Returns\n",
    "\n",
    "- **filtered_structure** (`dict` or `list`):  \n",
    "  A new nested data structure containing only the elements that satisfy the condition. The structure of the original `nested_structure` is preserved, but only with the elements that meet the condition.\n",
    "\n",
    "---\n",
    "\n",
    "## Raises\n",
    "\n",
    "- **TypeError**:  \n",
    "  If `nested_structure` is not a dictionary or a list.\n",
    "\n",
    "---"
   ]
  },
  {
   "cell_type": "markdown",
   "metadata": {},
   "source": [
    "\n",
    "## Examples"
   ]
  },
  {
   "cell_type": "markdown",
   "metadata": {},
   "source": [
    "\n",
    "### Example 1: Filtering Even Numbers from a Nested Structure"
   ]
  },
  {
   "cell_type": "code",
   "execution_count": 1,
   "metadata": {},
   "outputs": [
    {
     "name": "stdout",
     "output_type": "stream",
     "text": [
      "{'b': {'c': 2}, 'e': [4, 6]}\n"
     ]
    }
   ],
   "source": [
    "from lionfuncs.data_handlers.nfilter import nfilter\n",
    "\n",
    "data = {\"a\": 1, \"b\": {\"c\": 2, \"d\": 3}, \"e\": [4, 5, 6]}\n",
    "condition = lambda x: isinstance(x, int) and x % 2 == 0\n",
    "\n",
    "filtered_data = nfilter(data, condition)\n",
    "print(filtered_data)"
   ]
  },
  {
   "cell_type": "markdown",
   "metadata": {},
   "source": [
    "**Explanation:**  \n",
    "The function filters out all elements that are not even integers. Only the even integers are retained in the nested structure.\n",
    "\n",
    "---"
   ]
  },
  {
   "cell_type": "markdown",
   "metadata": {},
   "source": [
    "### Example 2: Filtering Odd Numbers from a Nested List and Dictionary"
   ]
  },
  {
   "cell_type": "code",
   "execution_count": 2,
   "metadata": {},
   "outputs": [
    {
     "name": "stdout",
     "output_type": "stream",
     "text": [
      "[1, [[3, []]]]\n"
     ]
    }
   ],
   "source": [
    "data = [1, [2, [3, [4]]]]\n",
    "condition = lambda x: x % 2 != 0 if isinstance(x, int) else True\n",
    "\n",
    "filtered_data = nfilter(data, condition)\n",
    "print(filtered_data)"
   ]
  },
  {
   "cell_type": "markdown",
   "metadata": {},
   "source": [
    "**Explanation:**  \n",
    "The function retains only the odd integers within the nested lists.\n",
    "\n",
    "---"
   ]
  },
  {
   "cell_type": "markdown",
   "metadata": {},
   "source": [
    "### Example 3: Filtering Strings from a Complex Nested Structure\n"
   ]
  },
  {
   "cell_type": "code",
   "execution_count": 3,
   "metadata": {},
   "outputs": [
    {
     "name": "stdout",
     "output_type": "stream",
     "text": [
      "{'a': 'hello', 'b': ['world'], 'c': {'d': 'python'}}\n"
     ]
    }
   ],
   "source": [
    "data = {\"a\": \"hello\", \"b\": [1, \"world\", 3], \"c\": {\"d\": \"python\", \"e\": 2}}\n",
    "condition = lambda x: isinstance(x, str)\n",
    "\n",
    "filtered_data = nfilter(data, condition)\n",
    "print(filtered_data)"
   ]
  },
  {
   "cell_type": "markdown",
   "metadata": {},
   "source": [
    "**Explanation:**  \n",
    "Only string elements are retained in the nested structure.\n",
    "\n",
    "---"
   ]
  },
  {
   "cell_type": "markdown",
   "metadata": {},
   "source": [
    "### Example 4: Filtering Custom Objects Based on Attribute Conditions"
   ]
  },
  {
   "cell_type": "code",
   "execution_count": 4,
   "metadata": {},
   "outputs": [
    {
     "name": "stdout",
     "output_type": "stream",
     "text": [
      "{'b': <__main__.CustomObj object at 0x1064df380>, 'c': [<__main__.CustomObj object at 0x1064ddb80>]}\n"
     ]
    }
   ],
   "source": [
    "class CustomObj:\n",
    "    def __init__(self, value):\n",
    "        self.value = value\n",
    "\n",
    "data = {\n",
    "    \"a\": CustomObj(1),\n",
    "    \"b\": CustomObj(2),\n",
    "    \"c\": [CustomObj(3), CustomObj(4)],\n",
    "}\n",
    "condition = lambda x: isinstance(x, CustomObj) and x.value % 2 == 0\n",
    "\n",
    "filtered_data = nfilter(data, condition)\n",
    "print(filtered_data)"
   ]
  },
  {
   "cell_type": "markdown",
   "metadata": {},
   "source": [
    "**Explanation:**  \n",
    "The function filters `CustomObj` instances where the `value` attribute is an even number.\n",
    "\n",
    "---"
   ]
  },
  {
   "cell_type": "markdown",
   "metadata": {},
   "source": [
    "### Example 5: Handling None Values"
   ]
  },
  {
   "cell_type": "code",
   "execution_count": 5,
   "metadata": {},
   "outputs": [
    {
     "name": "stdout",
     "output_type": "stream",
     "text": [
      "{'b': 1, 'c': {'e': 2}}\n"
     ]
    }
   ],
   "source": [
    "data = {\"a\": None, \"b\": 1, \"c\": {\"d\": None, \"e\": 2}}\n",
    "condition = lambda x: x is not None\n",
    "\n",
    "filtered_data = nfilter(data, condition)\n",
    "print(filtered_data)"
   ]
  },
  {
   "cell_type": "markdown",
   "metadata": {},
   "source": [
    "**Explanation:**  \n",
    "Elements with `None` values are filtered out from the nested structure.\n",
    "\n",
    "---"
   ]
  },
  {
   "cell_type": "markdown",
   "metadata": {},
   "source": [
    "### Example 6: Using a Condition that Always Returns True\n"
   ]
  },
  {
   "cell_type": "code",
   "execution_count": 6,
   "metadata": {},
   "outputs": [
    {
     "name": "stdout",
     "output_type": "stream",
     "text": [
      "{'a': 1, 'b': {'c': 2, 'd': 3}, 'e': [4, 5]}\n"
     ]
    }
   ],
   "source": [
    "\n",
    "data = {\"a\": 1, \"b\": {\"c\": 2, \"d\": 3}, \"e\": [4, 5]}\n",
    "condition = lambda x: True\n",
    "\n",
    "filtered_data = nfilter(data, condition)\n",
    "print(filtered_data)"
   ]
  },
  {
   "cell_type": "markdown",
   "metadata": {},
   "source": [
    "**Explanation:**  \n",
    "Since the condition always returns `True`, the original data is returned unmodified.\n",
    "\n",
    "---"
   ]
  },
  {
   "cell_type": "markdown",
   "metadata": {},
   "source": [
    "## Notes\n",
    "\n",
    "- The `nfilter` function is recursive and will traverse all levels of the nested structure.\n",
    "- If the condition function raises an exception, it will propagate up and may cause `nfilter` to terminate.\n",
    "- Empty dictionaries or lists resulting from filtering are omitted from the final result.\n",
    "\n",
    "---"
   ]
  },
  {
   "cell_type": "markdown",
   "metadata": {},
   "source": [
    "## Handling Exceptions\n"
   ]
  },
  {
   "cell_type": "markdown",
   "metadata": {},
   "source": [
    "\n",
    "### TypeError: Invalid Input Type"
   ]
  },
  {
   "cell_type": "code",
   "execution_count": 7,
   "metadata": {},
   "outputs": [
    {
     "name": "stdout",
     "output_type": "stream",
     "text": [
      "The nested_structure must be either a dict or a list.\n"
     ]
    }
   ],
   "source": [
    "data = 42\n",
    "condition = lambda x: True\n",
    "\n",
    "try:\n",
    "    filtered_data = nfilter(data, condition)\n",
    "except TypeError as e:\n",
    "    print(e)"
   ]
  },
  {
   "cell_type": "markdown",
   "metadata": {},
   "source": [
    "**Raises:**\n",
    "\n",
    "```python\n",
    "TypeError: The nested_structure must be either a dict or a list.\n",
    "```\n",
    "\n",
    "**Explanation:**  \n",
    "The input `data` must be a dictionary or a list. Passing any other type will raise a `TypeError`.\n",
    "\n",
    "---"
   ]
  },
  {
   "cell_type": "markdown",
   "metadata": {},
   "source": [
    "### Exception in Condition Function"
   ]
  },
  {
   "cell_type": "code",
   "execution_count": 8,
   "metadata": {},
   "outputs": [
    {
     "name": "stdout",
     "output_type": "stream",
     "text": [
      "Error in condition\n"
     ]
    }
   ],
   "source": [
    "def faulty_condition(x):\n",
    "    if isinstance(x, int):\n",
    "        raise ValueError(\"Error in condition\")\n",
    "    return True\n",
    "\n",
    "data = {\"a\": 1, \"b\": \"string\", \"c\": [2, 3]}\n",
    "try:\n",
    "    filtered_data = nfilter(data, faulty_condition)\n",
    "except Exception as e:\n",
    "    print(e)"
   ]
  },
  {
   "cell_type": "markdown",
   "metadata": {},
   "source": [
    "**Raises:**\n",
    "\n",
    "```python\n",
    "ValueError: Error in condition\n",
    "```\n",
    "\n",
    "**Explanation:**  \n",
    "If the condition function raises an exception for any element, `nfilter` will not handle it internally, and the exception will propagate to the caller.\n",
    "\n",
    "---"
   ]
  },
  {
   "cell_type": "markdown",
   "metadata": {},
   "source": [
    "## Implementation Details\n",
    "\n",
    "The `nfilter` function is part of the `lionfuncs.data_handlers` module.\n",
    "\n",
    "---"
   ]
  },
  {
   "cell_type": "markdown",
   "metadata": {},
   "source": [
    "## Conclusion\n",
    "\n",
    "The `nfilter` function is a powerful tool for recursively filtering nested data structures. By providing a custom condition function, you can flexibly retain or remove elements based on any criteria.\n",
    "\n",
    "---\n"
   ]
  }
 ],
 "metadata": {
  "kernelspec": {
   "display_name": "Python 3",
   "language": "python",
   "name": "python3"
  },
  "language_info": {
   "codemirror_mode": {
    "name": "ipython",
    "version": 3
   },
   "file_extension": ".py",
   "mimetype": "text/x-python",
   "name": "python",
   "nbconvert_exporter": "python",
   "pygments_lexer": "ipython3",
   "version": "3.12.4"
  }
 },
 "nbformat": 4,
 "nbformat_minor": 2
}
