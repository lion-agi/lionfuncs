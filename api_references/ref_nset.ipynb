{
 "cells": [
  {
   "cell_type": "markdown",
   "metadata": {},
   "source": [
    "# nset Function API Reference\n",
    "\n",
    "The `nset` function sets a value in a nested data structure (dictionaries and lists) at a specified path. It navigates through the structure according to the provided indices and assigns the given value, creating intermediate structures as necessary.\n",
    "\n",
    "---\n",
    "\n",
    "## Function Signature\n",
    "\n",
    "```python\n",
    "def nset(nested_structure, indices, value):\n",
    "    ...\n",
    "```\n",
    "\n",
    "---\n",
    "\n",
    "## Parameters\n",
    "\n",
    "- **nested_structure** (`dict`, `list`):  \n",
    "  The data structure in which to set the value. It can be a dictionary, a list, or a nested combination of both.\n",
    "\n",
    "- **indices** (`list`):  \n",
    "  A list of keys or indices specifying the path to the location where the value should be set. Keys are used for dictionaries, and indices (integers) are used for lists.\n",
    "\n",
    "- **value** (any):  \n",
    "  The value to set at the specified path.\n",
    "\n",
    "---\n",
    "\n",
    "## Returns\n",
    "\n",
    "- **None**:  \n",
    "  The function modifies the `nested_structure` in place and does not return anything.\n",
    "\n",
    "---\n",
    "\n",
    "## Raises\n",
    "\n",
    "- **ValueError**:  \n",
    "  If the `indices` list is empty.\n",
    "\n",
    "- **TypeError**:  \n",
    "  If an index is invalid for the type it is indexing into (e.g., using a string key for a list), or if it encounters an immutable type that cannot be modified.\n",
    "\n",
    "---"
   ]
  },
  {
   "cell_type": "markdown",
   "metadata": {},
   "source": [
    "## Examples\n",
    "\n",
    "### Example 1: Setting a Value in a Nested Dictionary"
   ]
  },
  {
   "cell_type": "code",
   "execution_count": 1,
   "metadata": {},
   "outputs": [
    {
     "name": "stdout",
     "output_type": "stream",
     "text": [
      "{'a': {'b': {'c': 99}}}\n"
     ]
    }
   ],
   "source": [
    "from lionfuncs.data_handlers.nset import nset\n",
    "\n",
    "data = {\"a\": {\"b\": {\"c\": 3}}}\n",
    "nset(data, [\"a\", \"b\", \"c\"], 99)\n",
    "print(data)"
   ]
  },
  {
   "cell_type": "markdown",
   "metadata": {},
   "source": [
    "### Example 2: Creating Intermediate Structures"
   ]
  },
  {
   "cell_type": "code",
   "execution_count": 2,
   "metadata": {},
   "outputs": [
    {
     "name": "stdout",
     "output_type": "stream",
     "text": [
      "{'x': {'y': {'z': 42}}}\n"
     ]
    }
   ],
   "source": [
    "data = {}\n",
    "nset(data, [\"x\", \"y\", \"z\"], 42)\n",
    "print(data)"
   ]
  },
  {
   "cell_type": "markdown",
   "metadata": {},
   "source": [
    "### Example 3: Setting a Value in a Nested List\n"
   ]
  },
  {
   "cell_type": "code",
   "execution_count": 3,
   "metadata": {},
   "outputs": [
    {
     "name": "stdout",
     "output_type": "stream",
     "text": [
      "[1, [2, 99]]\n"
     ]
    }
   ],
   "source": [
    "data = [1, [2, 3]]\n",
    "nset(data, [1, 1], 99)\n",
    "print(data)"
   ]
  },
  {
   "cell_type": "markdown",
   "metadata": {},
   "source": [
    "### Example 4: Extending a List to Set a Value"
   ]
  },
  {
   "cell_type": "code",
   "execution_count": 4,
   "metadata": {},
   "outputs": [
    {
     "name": "stdout",
     "output_type": "stream",
     "text": [
      "{'numbers': [1, 2, None, None, 99]}\n"
     ]
    }
   ],
   "source": [
    "data = {\"numbers\": [1, 2]}\n",
    "nset(data, [\"numbers\", 4], 99)\n",
    "print(data)"
   ]
  },
  {
   "cell_type": "markdown",
   "metadata": {},
   "source": [
    "\n",
    "## Notes\n",
    "\n",
    "- **In-Place Modification:**  \n",
    "  The `nset` function modifies the original `nested_structure` in place.\n",
    "  \n",
    "- **Intermediate Structures:**  \n",
    "  If the specified path does not exist, intermediate dictionaries or lists are created automatically.\n",
    "\n",
    "- **Indexing Rules:**  \n",
    "  - Use **keys** for dictionaries.\n",
    "  - Use **integer indices** for lists.\n",
    "\n",
    "- **Extending Lists:**  \n",
    "  When setting a value at an index beyond the current length of a list, the list is extended with `None` values to reach the required length.\n",
    "\n",
    "---\n",
    "\n",
    "## Error Types\n",
    "\n",
    "- **ValueError:**  \n",
    "  Raised when the `indices` list is empty.\n",
    "\n",
    "- **TypeError:**  \n",
    "  Raised when an invalid index is used for the current data type, or when attempting to modify an immutable type.\n",
    "\n",
    "---\n",
    "\n",
    "## Conclusion\n",
    "\n",
    "The `nset` function is a powerful utility for setting values deep within nested data structures without the need to manually traverse or create intermediate layers. It simplifies the process of updating complex data formats by handling the navigation and creation of necessary structures automatically.\n",
    "\n",
    "---\n",
    "\n",
    "```"
   ]
  },
  {
   "cell_type": "code",
   "execution_count": null,
   "metadata": {},
   "outputs": [],
   "source": []
  }
 ],
 "metadata": {
  "kernelspec": {
   "display_name": "Python 3",
   "language": "python",
   "name": "python3"
  },
  "language_info": {
   "codemirror_mode": {
    "name": "ipython",
    "version": 3
   },
   "file_extension": ".py",
   "mimetype": "text/x-python",
   "name": "python",
   "nbconvert_exporter": "python",
   "pygments_lexer": "ipython3",
   "version": "3.12.4"
  }
 },
 "nbformat": 4,
 "nbformat_minor": 2
}
