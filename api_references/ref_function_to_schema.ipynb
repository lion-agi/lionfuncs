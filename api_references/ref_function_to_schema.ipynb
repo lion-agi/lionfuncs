{
 "cells": [
  {
   "cell_type": "code",
   "execution_count": 3,
   "metadata": {},
   "outputs": [],
   "source": [
    "from lionfuncs import function_to_schema"
   ]
  },
  {
   "cell_type": "code",
   "execution_count": 4,
   "metadata": {},
   "outputs": [
    {
     "data": {
      "text/plain": [
       "{'type': 'function',\n",
       " 'function': {'name': 'sample_func',\n",
       "  'description': 'sample function',\n",
       "  'parameters': {'type': 'object',\n",
       "   'properties': {'arg1': {'type': 'string', 'description': 'sample argument'},\n",
       "    'arg2': {'type': 'number', 'description': 'sample argument'}},\n",
       "   'required': ['arg1', 'arg2']}}}"
      ]
     },
     "execution_count": 4,
     "metadata": {},
     "output_type": "execute_result"
    }
   ],
   "source": [
    "def sample_func(arg1: str, arg2: int) -> dict:\n",
    "    \"\"\"\n",
    "    sample function\n",
    "\n",
    "    args:\n",
    "        arg1 (str): sample argument\n",
    "        arg2 (int): sample argument\n",
    "    \"\"\"\n",
    "\n",
    "\n",
    "function_to_schema(sample_func)"
   ]
  },
  {
   "cell_type": "code",
   "execution_count": 5,
   "metadata": {},
   "outputs": [
    {
     "data": {
      "text/plain": [
       "{'type': 'function',\n",
       " 'function': {'name': 'sample_func',\n",
       "  'description': 'sample function',\n",
       "  'parameters': {'type': 'object',\n",
       "   'properties': {'arg1': {'type': 'string', 'description': 'sample argument'},\n",
       "    'arg2': {'type': 'number', 'description': 'sample argument'}},\n",
       "   'required': ['arg1', 'arg2']}}}"
      ]
     },
     "execution_count": 5,
     "metadata": {},
     "output_type": "execute_result"
    }
   ],
   "source": [
    "def sample_func(arg1: str, arg2: int) -> dict:\n",
    "    \"\"\"sample function\n",
    "\n",
    "    :param arg1: sample argument\n",
    "    :type arg1: str\n",
    "    :param arg2: sample argument\n",
    "    :type arg2: int\n",
    "    \"\"\"\n",
    "\n",
    "\n",
    "function_to_schema(sample_func, style=\"rest\")"
   ]
  }
 ],
 "metadata": {
  "kernelspec": {
   "display_name": "Python 3",
   "language": "python",
   "name": "python3"
  },
  "language_info": {
   "codemirror_mode": {
    "name": "ipython",
    "version": 3
   },
   "file_extension": ".py",
   "mimetype": "text/x-python",
   "name": "python",
   "nbconvert_exporter": "python",
   "pygments_lexer": "ipython3",
   "version": "3.12.4"
  }
 },
 "nbformat": 4,
 "nbformat_minor": 2
}
