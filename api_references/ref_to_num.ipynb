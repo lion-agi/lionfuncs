{
 "cells": [
  {
   "cell_type": "markdown",
   "metadata": {},
   "source": [
    "# `to_num` Function API Reference\n",
    "\n",
    "The `to_num` function extracts and converts numeric values from a given input, supporting integers, floats, and complex numbers. It can handle various numeric formats within strings, including fractions, percentages, and scientific notation.\n",
    "\n",
    "---\n",
    "\n",
    "## Function Signature\n",
    "\n",
    "```python\n",
    "def to_num(\n",
    "    input_: Any,\n",
    "    /,\n",
    "    *,\n",
    "    upper_bound: int | float | None = None,\n",
    "    lower_bound: int | float | None = None,\n",
    "    num_type: int | float | complex | str = float,\n",
    "    precision: int | None = None,\n",
    "    num_count: int = 1,\n",
    ") -> int | float | complex | list[int | float | complex]:\n",
    "    ...\n",
    "```\n",
    "\n",
    "---\n",
    "\n",
    "## Parameters\n",
    "\n",
    "- **input_** (`Any`):  \n",
    "  The input from which to extract and convert numeric values. It can be a string containing numbers, a numeric value, or any object that can be converted to a string.\n",
    "\n",
    "- **upper_bound** (`int | float`, optional):  \n",
    "  The maximum allowed value (inclusive). If specified, any extracted number exceeding this value will raise a `ValueError`.\n",
    "\n",
    "- **lower_bound** (`int | float`, optional):  \n",
    "  The minimum allowed value (inclusive). If specified, any extracted number below this value will raise a `ValueError`.\n",
    "\n",
    "- **num_type** (`int | float | complex | str`, optional):  \n",
    "  The desired numeric type for conversion. Accepts the type itself (`int`, `float`, `complex`) or a string `\"int\"`, `\"float\"`, or `\"complex\"`. Default is `float`.\n",
    "\n",
    "- **precision** (`int`, optional):  \n",
    "  The number of decimal places to which to round the extracted number(s). Applicable only when `num_type` is `float`.\n",
    "\n",
    "- **num_count** (`int`, optional):  \n",
    "  The number of numeric values to extract and return. If more numbers are found than specified, only the first `num_count` numbers are returned. Default is `1`.\n",
    "\n",
    "---\n",
    "\n",
    "## Returns\n",
    "\n",
    "- **int | float | complex | list[int | float | complex]**:  \n",
    "  Returns a single numeric value if `num_count` is `1`, otherwise returns a list containing the extracted numeric values, converted to the specified `num_type`.\n",
    "\n",
    "---\n",
    "\n",
    "## Raises\n",
    "\n",
    "- **ValueError**:  \n",
    "  - If no valid numeric value is found in the input.\n",
    "  - If the extracted number exceeds the `upper_bound` or is less than the `lower_bound`.\n",
    "  - If `num_type` is invalid (not `int`, `float`, or `complex`).\n",
    "  - If the input contains unsupported numeric formats (e.g., hexadecimal, binary).\n",
    "\n",
    "- **TypeError**:  \n",
    "  If the input is of type `list`, which is not supported.\n",
    "\n",
    "---"
   ]
  },
  {
   "cell_type": "markdown",
   "metadata": {},
   "source": [
    "## Examples\n",
    "\n",
    "### Example 1: Extracting an Integer"
   ]
  },
  {
   "cell_type": "code",
   "execution_count": 1,
   "metadata": {},
   "outputs": [
    {
     "name": "stdout",
     "output_type": "stream",
     "text": [
      "42\n"
     ]
    }
   ],
   "source": [
    "from lionfuncs.data_handlers.to_num import to_num\n",
    "\n",
    "result = to_num(\"The answer is 42\", num_type=int)\n",
    "print(result)"
   ]
  },
  {
   "cell_type": "markdown",
   "metadata": {},
   "source": [
    "**Explanation:**  \n",
    "Extracts the integer `42` from the input string and returns it as an `int`.\n",
    "\n",
    "---"
   ]
  },
  {
   "cell_type": "markdown",
   "metadata": {},
   "source": [
    "### Example 2: Extracting a Float with Precision"
   ]
  },
  {
   "cell_type": "code",
   "execution_count": 2,
   "metadata": {},
   "outputs": [
    {
     "name": "stdout",
     "output_type": "stream",
     "text": [
      "3.14\n"
     ]
    }
   ],
   "source": [
    "result = to_num(\"Pi is approximately 3.14159\", precision=2)\n",
    "print(result)"
   ]
  },
  {
   "cell_type": "markdown",
   "metadata": {},
   "source": [
    "**Explanation:**  \n",
    "Extracts the float `3.14159` and rounds it to 2 decimal places, returning `3.14`.\n",
    "\n",
    "---"
   ]
  },
  {
   "cell_type": "markdown",
   "metadata": {},
   "source": [
    "\n",
    "### Example 3: Extracting Multiple Numbers"
   ]
  },
  {
   "cell_type": "code",
   "execution_count": 3,
   "metadata": {},
   "outputs": [
    {
     "name": "stdout",
     "output_type": "stream",
     "text": [
      "[10.0, 20.0, 30.0]\n"
     ]
    }
   ],
   "source": [
    "result = to_num(\"Numbers: 10, 20, 30\", num_count=3)\n",
    "print(result)"
   ]
  },
  {
   "cell_type": "markdown",
   "metadata": {},
   "source": [
    "**Explanation:**  \n",
    "Extracts three numbers from the input string and returns them as a list of floats.\n",
    "\n",
    "---"
   ]
  },
  {
   "cell_type": "markdown",
   "metadata": {},
   "source": [
    "### Example 4: Extracting a Fraction"
   ]
  },
  {
   "cell_type": "code",
   "execution_count": 4,
   "metadata": {},
   "outputs": [
    {
     "name": "stdout",
     "output_type": "stream",
     "text": [
      "0.5\n"
     ]
    }
   ],
   "source": [
    "result = to_num(\"Half is represented as 1/2\", num_type=float)\n",
    "print(result)"
   ]
  },
  {
   "cell_type": "markdown",
   "metadata": {},
   "source": [
    "**Explanation:**  \n",
    "Extracts the fraction `1/2` and converts it to a float `0.5`.\n",
    "\n",
    "---"
   ]
  },
  {
   "cell_type": "markdown",
   "metadata": {},
   "source": [
    "### Example 5: Extracting a Complex Number"
   ]
  },
  {
   "cell_type": "code",
   "execution_count": 5,
   "metadata": {},
   "outputs": [
    {
     "name": "stdout",
     "output_type": "stream",
     "text": [
      "(3+4j)\n"
     ]
    }
   ],
   "source": [
    "result = to_num(\"The complex number is 3+4j\", num_type=complex)\n",
    "print(result)"
   ]
  },
  {
   "cell_type": "markdown",
   "metadata": {},
   "source": [
    "**Explanation:**  \n",
    "Extracts the complex number `3+4j` from the input string.\n",
    "\n",
    "---"
   ]
  },
  {
   "cell_type": "markdown",
   "metadata": {},
   "source": [
    "### Example 6: Applying Bounds"
   ]
  },
  {
   "cell_type": "code",
   "execution_count": 6,
   "metadata": {},
   "outputs": [
    {
     "name": "stdout",
     "output_type": "stream",
     "text": [
      "50.0\n"
     ]
    }
   ],
   "source": [
    "result = to_num(\"Value: 50\", lower_bound=0, upper_bound=100)\n",
    "print(result)"
   ]
  },
  {
   "cell_type": "markdown",
   "metadata": {},
   "source": [
    "**Explanation:**  \n",
    "Extracts the number `50` and verifies that it falls within the bounds of `0` and `100`.\n",
    "\n",
    "---"
   ]
  },
  {
   "cell_type": "markdown",
   "metadata": {},
   "source": [
    "### Example 8: Extracting Numbers from Non-String Input"
   ]
  },
  {
   "cell_type": "code",
   "execution_count": 8,
   "metadata": {},
   "outputs": [
    {
     "name": "stdout",
     "output_type": "stream",
     "text": [
      "3.14\n"
     ]
    }
   ],
   "source": [
    "result = to_num(3.14)\n",
    "print(result)"
   ]
  },
  {
   "cell_type": "markdown",
   "metadata": {},
   "source": [
    "**Explanation:**  \n",
    "Handles numeric input directly, returning it as a float.\n",
    "\n",
    "---"
   ]
  },
  {
   "cell_type": "markdown",
   "metadata": {},
   "source": [
    "\n",
    "### Example 9: Extracting Special Float Values"
   ]
  },
  {
   "cell_type": "code",
   "execution_count": 9,
   "metadata": {},
   "outputs": [
    {
     "name": "stdout",
     "output_type": "stream",
     "text": [
      "inf\n"
     ]
    }
   ],
   "source": [
    "result = to_num(\"Value is inf\", num_type=float)\n",
    "print(result)"
   ]
  },
  {
   "cell_type": "markdown",
   "metadata": {},
   "source": [
    "**Explanation:**  \n",
    "Extracts the special float value `inf` (infinity) from the input string.\n",
    "\n",
    "---"
   ]
  },
  {
   "cell_type": "markdown",
   "metadata": {},
   "source": [
    "### Example 10: Handling No Numbers Found"
   ]
  },
  {
   "cell_type": "code",
   "execution_count": 10,
   "metadata": {},
   "outputs": [
    {
     "name": "stdout",
     "output_type": "stream",
     "text": [
      "No numeric values found in the string: No numbers here\n"
     ]
    }
   ],
   "source": [
    "try:\n",
    "    result = to_num(\"No numbers here\")\n",
    "except ValueError as e:\n",
    "    print(e)"
   ]
  },
  {
   "cell_type": "markdown",
   "metadata": {},
   "source": [
    "\n",
    "**Output:**\n",
    "\n",
    "```\n",
    "No numeric values found in the string: No numbers here\n",
    "```\n",
    "\n",
    "**Explanation:**  \n",
    "Raises a `ValueError` because no numeric values are found in the input string.\n",
    "\n",
    "---"
   ]
  },
  {
   "cell_type": "markdown",
   "metadata": {},
   "source": [
    "## Notes\n",
    "\n",
    "- **Input Handling:**  \n",
    "  The function can handle inputs that are strings containing numbers, pure numeric types (`int`, `float`, `complex`), or any object that can be converted to a string.\n",
    "\n",
    "- **Numeric Formats Supported:**  \n",
    "  - Integers (e.g., `42`, `-7`, `+3`)\n",
    "  - Floats (e.g., `3.14`, `-0.001`, `+2.5`)\n",
    "  - Fractions (e.g., `1/2`, `3/4`)\n",
    "  - Percentages (e.g., `50%`, `100%`)\n",
    "  - Scientific notation (e.g., `1e3`, `-2E-2`)\n",
    "  - Complex numbers (e.g., `1+2j`, `-3j`)\n",
    "\n",
    "- **Special Float Values:**  \n",
    "  Recognizes special float values like `inf`, `-inf`, and `nan`.\n",
    "\n",
    "- **Precision:**  \n",
    "  When `precision` is specified and `num_type` is `float`, the extracted number is rounded to the specified number of decimal places.\n",
    "\n",
    "- **Bounds Checking:**  \n",
    "  If `upper_bound` or `lower_bound` are specified, the extracted number(s) are checked against these bounds, and a `ValueError` is raised if they fall outside the specified range.\n",
    "\n",
    "- **Multiple Numbers Extraction:**  \n",
    "  By setting `num_count` greater than `1`, the function can extract multiple numbers from the input and return them as a list.\n",
    "\n",
    "- **Unsupported Formats:**  \n",
    "  The function does not support hexadecimal (`0x1A`) or binary (`0b1010`) numeric formats.\n",
    "\n",
    "---\n",
    "\n",
    "## Exceptions\n",
    "\n",
    "- **ValueError:**  \n",
    "  - No numeric values found in the input.\n",
    "  - Extracted number exceeds `upper_bound` or is less than `lower_bound`.\n",
    "  - Invalid `num_type` specified.\n",
    "  - Input contains unsupported numeric formats.\n",
    "\n",
    "- **TypeError:**  \n",
    "  Input is of type `list`, which is not supported.\n",
    "\n",
    "---\n",
    "\n",
    "## Conclusion\n",
    "\n",
    "The `to_num` function is a flexible utility for extracting and converting numeric values from various inputs. It supports a wide range of numeric formats and provides options for type conversion, precision control, bounds checking, and multiple number extraction.\n",
    "\n",
    "---"
   ]
  },
  {
   "cell_type": "code",
   "execution_count": null,
   "metadata": {},
   "outputs": [],
   "source": []
  }
 ],
 "metadata": {
  "kernelspec": {
   "display_name": "Python 3",
   "language": "python",
   "name": "python3"
  },
  "language_info": {
   "codemirror_mode": {
    "name": "ipython",
    "version": 3
   },
   "file_extension": ".py",
   "mimetype": "text/x-python",
   "name": "python",
   "nbconvert_exporter": "python",
   "pygments_lexer": "ipython3",
   "version": "3.12.4"
  }
 },
 "nbformat": 4,
 "nbformat_minor": 2
}
