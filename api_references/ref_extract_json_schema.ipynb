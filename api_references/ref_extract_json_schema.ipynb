{
 "cells": [
  {
   "cell_type": "code",
   "execution_count": 1,
   "metadata": {},
   "outputs": [],
   "source": [
    "from lionfuncs import extract_json_schema, json_schema_to_regex, json_schema_to_cfg\n"
   ]
  },
  {
   "cell_type": "code",
   "execution_count": 2,
   "metadata": {},
   "outputs": [
    {
     "name": "stdout",
     "output_type": "stream",
     "text": [
      "{'type': 'object', 'properties': {'c': {'type': 'integer'}, 'd': {'e': {'type': 'string'}, 'f': {'type': 'string'}}, 'a': {'type': 'array', 'items': {'type': 'integer'}}}}\n"
     ]
    }
   ],
   "source": [
    "a = {\n",
    "    \"a\": [1,2,3],\n",
    "    \"d\": {\n",
    "        \"e\": \"a\",\n",
    "        \"f\": \"c\"\n",
    "    },\n",
    "    \"c\": 3\n",
    "}\n",
    "\n",
    "\n",
    "b = extract_json_schema(a)\n",
    "print(b)"
   ]
  },
  {
   "cell_type": "code",
   "execution_count": 3,
   "metadata": {},
   "outputs": [
    {
     "name": "stdout",
     "output_type": "stream",
     "text": [
      "^\\{\\s*(\"c\"\\s*:\\s*-?\\d+|\"d\"\\s*:\\s*.*|\"a\"\\s*:\\s*\\[\\s*(-?\\d+(\\s*,\\s*-?\\d+)*)?\\s*\\])(\\s*,\\s*(\"c\"\\s*:\\s*-?\\d+|\"d\"\\s*:\\s*.*|\"a\"\\s*:\\s*\\[\\s*(-?\\d+(\\s*,\\s*-?\\d+)*)?\\s*\\]))*\\s*\\}$\n"
     ]
    }
   ],
   "source": [
    "print(json_schema_to_regex(b))"
   ]
  },
  {
   "cell_type": "code",
   "execution_count": 4,
   "metadata": {},
   "outputs": [
    {
     "name": "stdout",
     "output_type": "stream",
     "text": [
      "[('S', ['{', 'PROPS@0', '}']), ('PROPS@0', []), ('PROPS@0', ['c@1']), ('PROPS@0', ['PROPS@0', ',', 'd@2']), ('PROPS@0', ['PROPS@0', ',', 'a@3']), ('c@4', ['\"c\"', ':', 'VALUE@5']), ('VALUE@5', ['INTEGER']), ('d@6', ['\"d\"', ':', 'VALUE@7']), ('a@8', ['\"a\"', ':', 'VALUE@9']), ('VALUE@9', ['[', ']']), ('VALUE@9', ['[', 'ITEMS@10', ']']), ('ITEMS@10', ['VALUE@11']), ('ITEMS@10', ['VALUE@11', ',', 'ITEMS@10']), ('VALUE@11', ['INTEGER'])]\n"
     ]
    }
   ],
   "source": [
    "print(json_schema_to_cfg(b))"
   ]
  }
 ],
 "metadata": {
  "kernelspec": {
   "display_name": "Python 3",
   "language": "python",
   "name": "python3"
  },
  "language_info": {
   "codemirror_mode": {
    "name": "ipython",
    "version": 3
   },
   "file_extension": ".py",
   "mimetype": "text/x-python",
   "name": "python",
   "nbconvert_exporter": "python",
   "pygments_lexer": "ipython3",
   "version": "3.12.4"
  }
 },
 "nbformat": 4,
 "nbformat_minor": 2
}
