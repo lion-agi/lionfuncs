{
 "cells": [
  {
   "cell_type": "code",
   "execution_count": 1,
   "metadata": {},
   "outputs": [],
   "source": [
    "from lionfuncs import extract_code_block"
   ]
  },
  {
   "cell_type": "code",
   "execution_count": 2,
   "metadata": {},
   "outputs": [],
   "source": [
    "text = \"\"\"\n",
    "here are some words\n",
    "\n",
    "```python\n",
    "def foo():\n",
    "    print(\"hello world\")\n",
    "```\n",
    "some words\n",
    "\n",
    "```python\n",
    "def bar():\n",
    "    print(\"goodbye world\")\n",
    "```\n",
    "\n",
    "```js\n",
    "sss\n",
    "```\n",
    "\n",
    "more words\n",
    "\"\"\"\n"
   ]
  },
  {
   "cell_type": "code",
   "execution_count": 3,
   "metadata": {},
   "outputs": [
    {
     "name": "stdout",
     "output_type": "stream",
     "text": [
      "def foo():\n",
      "    print(\"hello world\")\n",
      "\n",
      "def bar():\n",
      "    print(\"goodbye world\")\n",
      "\n",
      "sss\n"
     ]
    }
   ],
   "source": [
    "print(extract_code_block(text))"
   ]
  }
 ],
 "metadata": {
  "kernelspec": {
   "display_name": "Python 3",
   "language": "python",
   "name": "python3"
  },
  "language_info": {
   "codemirror_mode": {
    "name": "ipython",
    "version": 3
   },
   "file_extension": ".py",
   "mimetype": "text/x-python",
   "name": "python",
   "nbconvert_exporter": "python",
   "pygments_lexer": "ipython3",
   "version": "3.12.4"
  }
 },
 "nbformat": 4,
 "nbformat_minor": 2
}
